{
 "cells": [
  {
   "cell_type": "code",
   "execution_count": 1,
   "id": "c67a3c3d",
   "metadata": {},
   "outputs": [],
   "source": [
    "%matplotlib inline\n",
    "import matplotlib.pyplot as plt\n",
    "\n",
    "import pandas as pd\n",
    "import numpy as np\n",
    "import seaborn as sns\n",
    "import warnings\n",
    "\n",
    "from sklearn.model_selection import train_test_split\n",
    "from sklearn.preprocessing import LabelEncoder\n",
    "##from sklearn.metrics import r2_score\n",
    "from sklearn.linear_model import LinearRegression\n",
    "from sklearn import tree\n",
    "from sklearn.naive_bayes import GaussianNB\n",
    "from sklearn import metrics\n",
    "from sklearn.ensemble import RandomForestClassifier"
   ]
  },
  {
   "cell_type": "markdown",
   "id": "3d19d990",
   "metadata": {},
   "source": [
    "## 1. Chương 1 : Đọc dữ liệu và Tiền xử lý "
   ]
  },
  {
   "cell_type": "code",
   "execution_count": 3,
   "id": "78e513d6",
   "metadata": {},
   "outputs": [],
   "source": [
    "df = pd.read_csv(\"C:/Users/84346/Desktop/Google-Playstore.csv\")"
   ]
  },
  {
   "cell_type": "code",
   "execution_count": 22,
   "id": "470cbe6f",
   "metadata": {
    "scrolled": true
   },
   "outputs": [
    {
     "data": {
      "text/html": [
       "<div>\n",
       "<style scoped>\n",
       "    .dataframe tbody tr th:only-of-type {\n",
       "        vertical-align: middle;\n",
       "    }\n",
       "\n",
       "    .dataframe tbody tr th {\n",
       "        vertical-align: top;\n",
       "    }\n",
       "\n",
       "    .dataframe thead th {\n",
       "        text-align: right;\n",
       "    }\n",
       "</style>\n",
       "<table border=\"1\" class=\"dataframe\">\n",
       "  <thead>\n",
       "    <tr style=\"text-align: right;\">\n",
       "      <th></th>\n",
       "      <th>App Name</th>\n",
       "      <th>App Id</th>\n",
       "      <th>Category</th>\n",
       "      <th>Rating</th>\n",
       "      <th>Rating Count</th>\n",
       "      <th>Installs</th>\n",
       "      <th>Minimum Installs</th>\n",
       "      <th>Maximum Installs</th>\n",
       "      <th>Free</th>\n",
       "      <th>Price</th>\n",
       "      <th>...</th>\n",
       "      <th>Developer Id</th>\n",
       "      <th>Developer Website</th>\n",
       "      <th>Developer Email</th>\n",
       "      <th>Released</th>\n",
       "      <th>Last Updated</th>\n",
       "      <th>Content Rating</th>\n",
       "      <th>Privacy Policy</th>\n",
       "      <th>Ad Supported</th>\n",
       "      <th>In App Purchases</th>\n",
       "      <th>Editors Choice</th>\n",
       "    </tr>\n",
       "  </thead>\n",
       "  <tbody>\n",
       "    <tr>\n",
       "      <th>0</th>\n",
       "      <td>HTTrack Website Copier</td>\n",
       "      <td>com.httrack.android</td>\n",
       "      <td>Communication</td>\n",
       "      <td>3.6</td>\n",
       "      <td>2848.0</td>\n",
       "      <td>100,000+</td>\n",
       "      <td>100000.0</td>\n",
       "      <td>351560</td>\n",
       "      <td>True</td>\n",
       "      <td>0.0</td>\n",
       "      <td>...</td>\n",
       "      <td>Xavier Roche</td>\n",
       "      <td>http://www.httrack.com/</td>\n",
       "      <td>roche+android@httrack.com</td>\n",
       "      <td>Aug 12, 2013</td>\n",
       "      <td>May 20, 2017</td>\n",
       "      <td>Everyone</td>\n",
       "      <td>http://android.httrack.com/privacy-policy.html</td>\n",
       "      <td>False</td>\n",
       "      <td>False</td>\n",
       "      <td>False</td>\n",
       "    </tr>\n",
       "    <tr>\n",
       "      <th>1</th>\n",
       "      <td>World War 2: Offline Strategy</td>\n",
       "      <td>com.skizze.wwii</td>\n",
       "      <td>Strategy</td>\n",
       "      <td>4.3</td>\n",
       "      <td>17297.0</td>\n",
       "      <td>1,000,000+</td>\n",
       "      <td>1000000.0</td>\n",
       "      <td>2161778</td>\n",
       "      <td>True</td>\n",
       "      <td>0.0</td>\n",
       "      <td>...</td>\n",
       "      <td>Skizze Games</td>\n",
       "      <td>http://stereo7.com/</td>\n",
       "      <td>Skizze.Games@gmail.com</td>\n",
       "      <td>Jul 19, 2018</td>\n",
       "      <td>Nov 26, 2020</td>\n",
       "      <td>Everyone 10+</td>\n",
       "      <td>https://www.iubenda.com/privacy-policy/8032781</td>\n",
       "      <td>True</td>\n",
       "      <td>True</td>\n",
       "      <td>False</td>\n",
       "    </tr>\n",
       "    <tr>\n",
       "      <th>2</th>\n",
       "      <td>WPSApp</td>\n",
       "      <td>com.themausoft.wpsapp</td>\n",
       "      <td>Tools</td>\n",
       "      <td>4.2</td>\n",
       "      <td>488639.0</td>\n",
       "      <td>50,000,000+</td>\n",
       "      <td>50000000.0</td>\n",
       "      <td>79304739</td>\n",
       "      <td>True</td>\n",
       "      <td>0.0</td>\n",
       "      <td>...</td>\n",
       "      <td>TheMauSoft</td>\n",
       "      <td>http://www.themausoft.com</td>\n",
       "      <td>wpsapp.app@gmail.com</td>\n",
       "      <td>Mar 7, 2016</td>\n",
       "      <td>Oct 21, 2020</td>\n",
       "      <td>Everyone</td>\n",
       "      <td>https://sites.google.com/view/wpsapppolicy/main</td>\n",
       "      <td>True</td>\n",
       "      <td>False</td>\n",
       "      <td>False</td>\n",
       "    </tr>\n",
       "    <tr>\n",
       "      <th>3</th>\n",
       "      <td>OfficeSuite - Office, PDF, Word, Excel, PowerP...</td>\n",
       "      <td>com.mobisystems.office</td>\n",
       "      <td>Business</td>\n",
       "      <td>4.2</td>\n",
       "      <td>1224420.0</td>\n",
       "      <td>100,000,000+</td>\n",
       "      <td>100000000.0</td>\n",
       "      <td>163660067</td>\n",
       "      <td>True</td>\n",
       "      <td>0.0</td>\n",
       "      <td>...</td>\n",
       "      <td>MobiSystems</td>\n",
       "      <td>http://www.mobisystems.com</td>\n",
       "      <td>support-officesuite-android@mobisystems.com</td>\n",
       "      <td>Dec 22, 2011</td>\n",
       "      <td>Nov 23, 2020</td>\n",
       "      <td>Everyone</td>\n",
       "      <td>http://www.mobisystems.com/mobile/privacy-poli...</td>\n",
       "      <td>True</td>\n",
       "      <td>True</td>\n",
       "      <td>False</td>\n",
       "    </tr>\n",
       "    <tr>\n",
       "      <th>4</th>\n",
       "      <td>Loud Player Free</td>\n",
       "      <td>com.arthelion.loudplayer</td>\n",
       "      <td>Music &amp; Audio</td>\n",
       "      <td>4.2</td>\n",
       "      <td>665.0</td>\n",
       "      <td>50,000+</td>\n",
       "      <td>50000.0</td>\n",
       "      <td>73463</td>\n",
       "      <td>True</td>\n",
       "      <td>0.0</td>\n",
       "      <td>...</td>\n",
       "      <td>Arthelion92</td>\n",
       "      <td>http://www.arthelion.com</td>\n",
       "      <td>arthelion92@gmail.com</td>\n",
       "      <td>Sep 24, 2016</td>\n",
       "      <td>Nov 22, 2020</td>\n",
       "      <td>Everyone</td>\n",
       "      <td>http://www.arthelion.com/index.php/fr/android-...</td>\n",
       "      <td>False</td>\n",
       "      <td>False</td>\n",
       "      <td>False</td>\n",
       "    </tr>\n",
       "  </tbody>\n",
       "</table>\n",
       "<p>5 rows × 23 columns</p>\n",
       "</div>"
      ],
      "text/plain": [
       "                                            App Name  \\\n",
       "0                             HTTrack Website Copier   \n",
       "1                      World War 2: Offline Strategy   \n",
       "2                                             WPSApp   \n",
       "3  OfficeSuite - Office, PDF, Word, Excel, PowerP...   \n",
       "4                                   Loud Player Free   \n",
       "\n",
       "                     App Id       Category  Rating  Rating Count  \\\n",
       "0       com.httrack.android  Communication     3.6        2848.0   \n",
       "1           com.skizze.wwii       Strategy     4.3       17297.0   \n",
       "2     com.themausoft.wpsapp          Tools     4.2      488639.0   \n",
       "3    com.mobisystems.office       Business     4.2     1224420.0   \n",
       "4  com.arthelion.loudplayer  Music & Audio     4.2         665.0   \n",
       "\n",
       "       Installs  Minimum Installs  Maximum Installs  Free  Price  ...  \\\n",
       "0      100,000+          100000.0            351560  True    0.0  ...   \n",
       "1    1,000,000+         1000000.0           2161778  True    0.0  ...   \n",
       "2   50,000,000+        50000000.0          79304739  True    0.0  ...   \n",
       "3  100,000,000+       100000000.0         163660067  True    0.0  ...   \n",
       "4       50,000+           50000.0             73463  True    0.0  ...   \n",
       "\n",
       "   Developer Id           Developer Website  \\\n",
       "0  Xavier Roche     http://www.httrack.com/   \n",
       "1  Skizze Games         http://stereo7.com/   \n",
       "2    TheMauSoft   http://www.themausoft.com   \n",
       "3   MobiSystems  http://www.mobisystems.com   \n",
       "4   Arthelion92    http://www.arthelion.com   \n",
       "\n",
       "                               Developer Email      Released  Last Updated  \\\n",
       "0                    roche+android@httrack.com  Aug 12, 2013  May 20, 2017   \n",
       "1                       Skizze.Games@gmail.com  Jul 19, 2018  Nov 26, 2020   \n",
       "2                         wpsapp.app@gmail.com   Mar 7, 2016  Oct 21, 2020   \n",
       "3  support-officesuite-android@mobisystems.com  Dec 22, 2011  Nov 23, 2020   \n",
       "4                        arthelion92@gmail.com  Sep 24, 2016  Nov 22, 2020   \n",
       "\n",
       "  Content Rating                                     Privacy Policy  \\\n",
       "0       Everyone     http://android.httrack.com/privacy-policy.html   \n",
       "1   Everyone 10+     https://www.iubenda.com/privacy-policy/8032781   \n",
       "2       Everyone    https://sites.google.com/view/wpsapppolicy/main   \n",
       "3       Everyone  http://www.mobisystems.com/mobile/privacy-poli...   \n",
       "4       Everyone  http://www.arthelion.com/index.php/fr/android-...   \n",
       "\n",
       "  Ad Supported In App Purchases Editors Choice  \n",
       "0        False            False          False  \n",
       "1         True             True          False  \n",
       "2         True            False          False  \n",
       "3         True             True          False  \n",
       "4        False            False          False  \n",
       "\n",
       "[5 rows x 23 columns]"
      ]
     },
     "execution_count": 22,
     "metadata": {},
     "output_type": "execute_result"
    }
   ],
   "source": [
    "df.head()"
   ]
  },
  {
   "cell_type": "code",
   "execution_count": 4,
   "id": "75610227",
   "metadata": {},
   "outputs": [],
   "source": [
    "#Xóa những cột không cần thiết\n",
    "df.drop(['App Name', 'App Id','Developer Website','Developer Email','Developer Id','Privacy Policy', 'Released','Last Updated','Currency'],axis=1,inplace=True)"
   ]
  },
  {
   "cell_type": "code",
   "execution_count": 5,
   "id": "2e0b4e6b",
   "metadata": {
    "scrolled": true
   },
   "outputs": [
    {
     "data": {
      "text/html": [
       "<div>\n",
       "<style scoped>\n",
       "    .dataframe tbody tr th:only-of-type {\n",
       "        vertical-align: middle;\n",
       "    }\n",
       "\n",
       "    .dataframe tbody tr th {\n",
       "        vertical-align: top;\n",
       "    }\n",
       "\n",
       "    .dataframe thead th {\n",
       "        text-align: right;\n",
       "    }\n",
       "</style>\n",
       "<table border=\"1\" class=\"dataframe\">\n",
       "  <thead>\n",
       "    <tr style=\"text-align: right;\">\n",
       "      <th></th>\n",
       "      <th>Category</th>\n",
       "      <th>Rating</th>\n",
       "      <th>Rating Count</th>\n",
       "      <th>Installs</th>\n",
       "      <th>Minimum Installs</th>\n",
       "      <th>Maximum Installs</th>\n",
       "      <th>Free</th>\n",
       "      <th>Price</th>\n",
       "      <th>Size</th>\n",
       "      <th>Minimum Android</th>\n",
       "      <th>Content Rating</th>\n",
       "      <th>Ad Supported</th>\n",
       "      <th>In App Purchases</th>\n",
       "      <th>Editors Choice</th>\n",
       "      <th>Scraped Time</th>\n",
       "    </tr>\n",
       "  </thead>\n",
       "  <tbody>\n",
       "    <tr>\n",
       "      <th>0</th>\n",
       "      <td>Adventure</td>\n",
       "      <td>0.0</td>\n",
       "      <td>0.0</td>\n",
       "      <td>10+</td>\n",
       "      <td>10.0</td>\n",
       "      <td>15</td>\n",
       "      <td>True</td>\n",
       "      <td>0.0</td>\n",
       "      <td>10M</td>\n",
       "      <td>7.1 and up</td>\n",
       "      <td>Everyone</td>\n",
       "      <td>False</td>\n",
       "      <td>False</td>\n",
       "      <td>False</td>\n",
       "      <td>2021-06-15 20:19:35</td>\n",
       "    </tr>\n",
       "    <tr>\n",
       "      <th>1</th>\n",
       "      <td>Tools</td>\n",
       "      <td>4.4</td>\n",
       "      <td>64.0</td>\n",
       "      <td>5,000+</td>\n",
       "      <td>5000.0</td>\n",
       "      <td>7662</td>\n",
       "      <td>True</td>\n",
       "      <td>0.0</td>\n",
       "      <td>2.9M</td>\n",
       "      <td>5.0 and up</td>\n",
       "      <td>Everyone</td>\n",
       "      <td>True</td>\n",
       "      <td>False</td>\n",
       "      <td>False</td>\n",
       "      <td>2021-06-15 20:19:35</td>\n",
       "    </tr>\n",
       "    <tr>\n",
       "      <th>2</th>\n",
       "      <td>Productivity</td>\n",
       "      <td>0.0</td>\n",
       "      <td>0.0</td>\n",
       "      <td>50+</td>\n",
       "      <td>50.0</td>\n",
       "      <td>58</td>\n",
       "      <td>True</td>\n",
       "      <td>0.0</td>\n",
       "      <td>3.7M</td>\n",
       "      <td>4.0.3 and up</td>\n",
       "      <td>Everyone</td>\n",
       "      <td>False</td>\n",
       "      <td>False</td>\n",
       "      <td>False</td>\n",
       "      <td>2021-06-15 20:19:35</td>\n",
       "    </tr>\n",
       "    <tr>\n",
       "      <th>3</th>\n",
       "      <td>Communication</td>\n",
       "      <td>5.0</td>\n",
       "      <td>5.0</td>\n",
       "      <td>10+</td>\n",
       "      <td>10.0</td>\n",
       "      <td>19</td>\n",
       "      <td>True</td>\n",
       "      <td>0.0</td>\n",
       "      <td>1.8M</td>\n",
       "      <td>4.0.3 and up</td>\n",
       "      <td>Everyone</td>\n",
       "      <td>True</td>\n",
       "      <td>False</td>\n",
       "      <td>False</td>\n",
       "      <td>2021-06-15 20:19:35</td>\n",
       "    </tr>\n",
       "    <tr>\n",
       "      <th>4</th>\n",
       "      <td>Tools</td>\n",
       "      <td>0.0</td>\n",
       "      <td>0.0</td>\n",
       "      <td>100+</td>\n",
       "      <td>100.0</td>\n",
       "      <td>478</td>\n",
       "      <td>True</td>\n",
       "      <td>0.0</td>\n",
       "      <td>6.2M</td>\n",
       "      <td>4.1 and up</td>\n",
       "      <td>Everyone</td>\n",
       "      <td>False</td>\n",
       "      <td>False</td>\n",
       "      <td>False</td>\n",
       "      <td>2021-06-15 20:19:35</td>\n",
       "    </tr>\n",
       "  </tbody>\n",
       "</table>\n",
       "</div>"
      ],
      "text/plain": [
       "        Category  Rating  Rating Count Installs  Minimum Installs  \\\n",
       "0      Adventure     0.0           0.0      10+              10.0   \n",
       "1          Tools     4.4          64.0   5,000+            5000.0   \n",
       "2   Productivity     0.0           0.0      50+              50.0   \n",
       "3  Communication     5.0           5.0      10+              10.0   \n",
       "4          Tools     0.0           0.0     100+             100.0   \n",
       "\n",
       "   Maximum Installs  Free  Price  Size Minimum Android Content Rating  \\\n",
       "0                15  True    0.0   10M      7.1 and up       Everyone   \n",
       "1              7662  True    0.0  2.9M      5.0 and up       Everyone   \n",
       "2                58  True    0.0  3.7M    4.0.3 and up       Everyone   \n",
       "3                19  True    0.0  1.8M    4.0.3 and up       Everyone   \n",
       "4               478  True    0.0  6.2M      4.1 and up       Everyone   \n",
       "\n",
       "   Ad Supported  In App Purchases  Editors Choice         Scraped Time  \n",
       "0         False             False           False  2021-06-15 20:19:35  \n",
       "1          True             False           False  2021-06-15 20:19:35  \n",
       "2         False             False           False  2021-06-15 20:19:35  \n",
       "3          True             False           False  2021-06-15 20:19:35  \n",
       "4         False             False           False  2021-06-15 20:19:35  "
      ]
     },
     "execution_count": 5,
     "metadata": {},
     "output_type": "execute_result"
    }
   ],
   "source": [
    "df.head()"
   ]
  },
  {
   "cell_type": "markdown",
   "id": "1795b805",
   "metadata": {},
   "source": [
    "## 1.1. Xử lý dữ liệu bị mất\n"
   ]
  },
  {
   "cell_type": "code",
   "execution_count": 6,
   "id": "008be8bf",
   "metadata": {},
   "outputs": [
    {
     "name": "stdout",
     "output_type": "stream",
     "text": [
      "Category have \t0   null value\n",
      "Rating have \t22883   null value\n",
      "Rating Count have \t22883   null value\n",
      "Installs have \t107   null value\n",
      "Minimum Installs have \t107   null value\n",
      "Maximum Installs have \t0   null value\n",
      "Free have \t0   null value\n",
      "Price have \t0   null value\n",
      "Size have \t196   null value\n",
      "Minimum Android have \t6530   null value\n",
      "Content Rating have \t0   null value\n",
      "Ad Supported have \t0   null value\n",
      "In App Purchases have \t0   null value\n",
      "Editors Choice have \t0   null value\n",
      "Scraped Time have \t0   null value\n"
     ]
    }
   ],
   "source": [
    "#Đếm số lượng dữ liệu bị mất của từng cột\n",
    "for col in df.columns:\n",
    "    null=df[col].isnull().sum()\n",
    "    print('{0} have \\t{1}   null value'.format(col,null))"
   ]
  },
  {
   "cell_type": "code",
   "execution_count": 7,
   "id": "d38c6ff2",
   "metadata": {},
   "outputs": [
    {
     "name": "stdout",
     "output_type": "stream",
     "text": [
      "<class 'pandas.core.frame.DataFrame'>\n",
      "RangeIndex: 2312944 entries, 0 to 2312943\n",
      "Data columns (total 15 columns):\n",
      " #   Column            Dtype  \n",
      "---  ------            -----  \n",
      " 0   Category          object \n",
      " 1   Rating            float64\n",
      " 2   Rating Count      float64\n",
      " 3   Installs          object \n",
      " 4   Minimum Installs  float64\n",
      " 5   Maximum Installs  int64  \n",
      " 6   Free              bool   \n",
      " 7   Price             float64\n",
      " 8   Size              object \n",
      " 9   Minimum Android   object \n",
      " 10  Content Rating    object \n",
      " 11  Ad Supported      bool   \n",
      " 12  In App Purchases  bool   \n",
      " 13  Editors Choice    bool   \n",
      " 14  Scraped Time      object \n",
      "dtypes: bool(4), float64(4), int64(1), object(6)\n",
      "memory usage: 202.9+ MB\n"
     ]
    }
   ],
   "source": [
    "df.info()"
   ]
  },
  {
   "cell_type": "code",
   "execution_count": 8,
   "id": "7f1c8b9c",
   "metadata": {},
   "outputs": [],
   "source": [
    "#Xóa những dòng dữ liệu bị mất vì số lượng dữ liệu bị mất không đáng kể\n",
    "##df.fillna(method='bfill',inplace=True)\n",
    "df = df.dropna()"
   ]
  },
  {
   "cell_type": "code",
   "execution_count": 9,
   "id": "860f0a2f",
   "metadata": {},
   "outputs": [
    {
     "name": "stdout",
     "output_type": "stream",
     "text": [
      "Category have 0   null value\n",
      "Rating have 0   null value\n",
      "Rating Count have 0   null value\n",
      "Installs have 0   null value\n",
      "Minimum Installs have 0   null value\n",
      "Maximum Installs have 0   null value\n",
      "Free have 0   null value\n",
      "Price have 0   null value\n",
      "Size have 0   null value\n",
      "Minimum Android have 0   null value\n",
      "Content Rating have 0   null value\n",
      "Ad Supported have 0   null value\n",
      "In App Purchases have 0   null value\n",
      "Editors Choice have 0   null value\n",
      "Scraped Time have 0   null value\n"
     ]
    }
   ],
   "source": [
    "#Đếm lại\n",
    "for col in df.columns:\n",
    "    null=df[col].isnull().sum()\n",
    "    print('{0} have {1}   null value'.format(col,null))"
   ]
  },
  {
   "cell_type": "markdown",
   "id": "f2cc8fa7",
   "metadata": {},
   "source": [
    "## 1.2. Chuyển đổi kiểu dữ liệu cột Installs thành kiểu int"
   ]
  },
  {
   "cell_type": "code",
   "execution_count": 10,
   "id": "f490503d",
   "metadata": {},
   "outputs": [],
   "source": [
    "#Các lệnh sẽ loại dấu ',' và '+' trong giá trị của installs\n",
    "def string_to_numeric(data):\n",
    "    data=data.replace(',','')\n",
    "    data=data[:-1]\n",
    "    return int(data)\n",
    "\n",
    "df['Installs'] = df['Installs'].apply(string_to_numeric)"
   ]
  },
  {
   "cell_type": "code",
   "execution_count": 11,
   "id": "ddc07212",
   "metadata": {},
   "outputs": [
    {
     "name": "stderr",
     "output_type": "stream",
     "text": [
      "c:\\Users\\84346\\Desktop\\predict-product-rating-on-Google-Play-Store\\.venv\\Lib\\site-packages\\seaborn\\_decorators.py:36: FutureWarning: Pass the following variable as a keyword arg: x. From version 0.12, the only valid positional argument will be `data`, and passing other arguments without an explicit keyword will result in an error or misinterpretation.\n",
      "  warnings.warn(\n",
      "c:\\Users\\84346\\Desktop\\predict-product-rating-on-Google-Play-Store\\.venv\\Lib\\site-packages\\seaborn\\_core.py:1225: FutureWarning: is_categorical_dtype is deprecated and will be removed in a future version. Use isinstance(dtype, CategoricalDtype) instead\n",
      "  if pd.api.types.is_categorical_dtype(vector):\n",
      "c:\\Users\\84346\\Desktop\\predict-product-rating-on-Google-Play-Store\\.venv\\Lib\\site-packages\\seaborn\\_core.py:1225: FutureWarning: is_categorical_dtype is deprecated and will be removed in a future version. Use isinstance(dtype, CategoricalDtype) instead\n",
      "  if pd.api.types.is_categorical_dtype(vector):\n",
      "c:\\Users\\84346\\Desktop\\predict-product-rating-on-Google-Play-Store\\.venv\\Lib\\site-packages\\seaborn\\_core.py:1225: FutureWarning: is_categorical_dtype is deprecated and will be removed in a future version. Use isinstance(dtype, CategoricalDtype) instead\n",
      "  if pd.api.types.is_categorical_dtype(vector):\n"
     ]
    },
    {
     "data": {
      "text/plain": [
       "[]"
      ]
     },
     "execution_count": 11,
     "metadata": {},
     "output_type": "execute_result"
    },
    {
     "data": {
      "image/png": "[encoded data removed]",
      "text/plain": [
       "<Figure size 2000x1500 with 1 Axes>"
      ]
     },
     "metadata": {},
     "output_type": "display_data"
    }
   ],
   "source": [
    "plt.figure(figsize=(20,15))\n",
    "sns.countplot(df['Installs'])\n",
    "plt.plot()"
   ]
  },
  {
   "cell_type": "markdown",
   "id": "418e5c8f",
   "metadata": {},
   "source": [
    "## 1.3.  Chuyển đổi kiểu dữ liệu cột Size thành kiểu int"
   ]
  },
  {
   "cell_type": "code",
   "execution_count": 12,
   "id": "079ed7b0",
   "metadata": {},
   "outputs": [],
   "source": [
    "#Đổi các kích thước về Kilobyte\n",
    "def define_size(data):\n",
    "    data=data.replace(',','')\n",
    "    num=data[:-1]\n",
    "    if data[-1]=='K' or data[-1]=='k' :\n",
    "        return float(num)\n",
    "    elif data[-1]=='M' or data[-1]=='m':\n",
    "        return float(num)*1000\n",
    "    elif data[-1]=='G' or data[-1]=='g':\n",
    "        return float(num)*1000000\n",
    "    else:\n",
    "        return 1000\n",
    "df['Size']=df['Size'].apply(define_size)"
   ]
  },
  {
   "cell_type": "markdown",
   "id": "3fcd0be4",
   "metadata": {},
   "source": [
    "## 1.4.  Chuyển đổi kiểu dữ liệu cột Content Rating thành dạng số để phù hợp với đầu vào"
   ]
  },
  {
   "cell_type": "code",
   "execution_count": 13,
   "id": "9df20dca",
   "metadata": {},
   "outputs": [
    {
     "data": {
      "text/plain": [
       "Content Rating\n",
       "Everyone           1996767\n",
       "Teen                193733\n",
       "Mature 17+           59590\n",
       "Everyone 10+         33160\n",
       "Unrated                154\n",
       "Adults only 18+        131\n",
       "Name: count, dtype: int64"
      ]
     },
     "execution_count": 13,
     "metadata": {},
     "output_type": "execute_result"
    }
   ],
   "source": [
    "#Xem các giá trị trong cột Content Rating\n",
    "df['Content Rating'].value_counts()"
   ]
  },
  {
   "cell_type": "code",
   "execution_count": 14,
   "id": "34191cba",
   "metadata": {},
   "outputs": [],
   "source": [
    "#Gán nhãn cho từng giá trị trong cột \n",
    "lbl_content_rating=LabelEncoder()\n",
    "df['Content Rating']=lbl_content_rating.fit_transform(df['Content Rating'])"
   ]
  },
  {
   "cell_type": "code",
   "execution_count": 15,
   "id": "be58bf66",
   "metadata": {},
   "outputs": [
    {
     "data": {
      "text/plain": [
       "Content Rating\n",
       "1    1996767\n",
       "4     193733\n",
       "3      59590\n",
       "2      33160\n",
       "5        154\n",
       "0        131\n",
       "Name: count, dtype: int64"
      ]
     },
     "execution_count": 15,
     "metadata": {},
     "output_type": "execute_result"
    }
   ],
   "source": [
    "df['Content Rating'].value_counts()"
   ]
  },
  {
   "cell_type": "markdown",
   "id": "bd6f783a",
   "metadata": {},
   "source": [
    "## 1.5.  Chuyển đổi kiểu dữ liệu cột Minimum Android Version thành dạng số để phù hợp với đầu vào"
   ]
  },
  {
   "cell_type": "code",
   "execution_count": 16,
   "id": "2da837d3",
   "metadata": {},
   "outputs": [],
   "source": [
    "def min_android(data):\n",
    "    p=data.split()\n",
    "    if data=='Varies with device':\n",
    "        return 4.0\n",
    "    else:\n",
    "        return float(p[0][:3])\n",
    "df['Minimum Android']=df['Minimum Android'].apply(min_android)"
   ]
  },
  {
   "cell_type": "code",
   "execution_count": 17,
   "id": "9d9779c4",
   "metadata": {},
   "outputs": [
    {
     "name": "stderr",
     "output_type": "stream",
     "text": [
      "c:\\Users\\84346\\Desktop\\predict-product-rating-on-Google-Play-Store\\.venv\\Lib\\site-packages\\seaborn\\_decorators.py:36: FutureWarning: Pass the following variable as a keyword arg: x. From version 0.12, the only valid positional argument will be `data`, and passing other arguments without an explicit keyword will result in an error or misinterpretation.\n",
      "  warnings.warn(\n",
      "c:\\Users\\84346\\Desktop\\predict-product-rating-on-Google-Play-Store\\.venv\\Lib\\site-packages\\seaborn\\_core.py:1225: FutureWarning: is_categorical_dtype is deprecated and will be removed in a future version. Use isinstance(dtype, CategoricalDtype) instead\n",
      "  if pd.api.types.is_categorical_dtype(vector):\n",
      "c:\\Users\\84346\\Desktop\\predict-product-rating-on-Google-Play-Store\\.venv\\Lib\\site-packages\\seaborn\\_core.py:1225: FutureWarning: is_categorical_dtype is deprecated and will be removed in a future version. Use isinstance(dtype, CategoricalDtype) instead\n",
      "  if pd.api.types.is_categorical_dtype(vector):\n",
      "c:\\Users\\84346\\Desktop\\predict-product-rating-on-Google-Play-Store\\.venv\\Lib\\site-packages\\seaborn\\_core.py:1225: FutureWarning: is_categorical_dtype is deprecated and will be removed in a future version. Use isinstance(dtype, CategoricalDtype) instead\n",
      "  if pd.api.types.is_categorical_dtype(vector):\n"
     ]
    },
    {
     "data": {
      "text/plain": [
       "[]"
      ]
     },
     "execution_count": 17,
     "metadata": {},
     "output_type": "execute_result"
    },
    {
     "data": {
      "image/png": "[encoded data removed]",
      "text/plain": [
       "<Figure size 3000x1500 with 1 Axes>"
      ]
     },
     "metadata": {},
     "output_type": "display_data"
    }
   ],
   "source": [
    "plt.figure(figsize=(30,15))\n",
    "sns.countplot(df['Minimum Android'])\n",
    "plt.plot()"
   ]
  },
  {
   "cell_type": "markdown",
   "id": "48d918ef",
   "metadata": {},
   "source": [
    "## 1.6.  Chuyển đổi kiểu dữ liệu cột Category thành dạng số để phù hợp với đầu vào"
   ]
  },
  {
   "cell_type": "code",
   "execution_count": 18,
   "id": "155672ea",
   "metadata": {
    "scrolled": true
   },
   "outputs": [
    {
     "data": {
      "text/plain": [
       "Category\n",
       "Education                  239244\n",
       "Music & Audio              154381\n",
       "Business                   141630\n",
       "Tools                      141363\n",
       "Entertainment              137280\n",
       "Lifestyle                  117588\n",
       "Books & Reference          116349\n",
       "Personalization             88785\n",
       "Health & Fitness            82340\n",
       "Productivity                77848\n",
       "Shopping                    74645\n",
       "Food & Drink                73292\n",
       "Travel & Local              66494\n",
       "Finance                     64488\n",
       "Arcade                      52441\n",
       "Puzzle                      50090\n",
       "Casual                      49060\n",
       "Communication               47366\n",
       "Sports                      46913\n",
       "Social                      43956\n",
       "News & Magazines            42492\n",
       "Photography                 35333\n",
       "Medical                     31539\n",
       "Action                      26691\n",
       "Maps & Navigation           26268\n",
       "Adventure                   22710\n",
       "Simulation                  22654\n",
       "Educational                 20962\n",
       "Art & Design                18321\n",
       "Auto & Vehicles             17869\n",
       "House & Home                14119\n",
       "Video Players & Editors     13906\n",
       "Events                      12631\n",
       "Trivia                      11656\n",
       "Beauty                      11640\n",
       "Board                       10417\n",
       "Racing                      10148\n",
       "Role Playing                 9607\n",
       "Word                         8512\n",
       "Strategy                     8200\n",
       "Card                         8025\n",
       "Weather                      7106\n",
       "Dating                       6419\n",
       "Libraries & Demo             5048\n",
       "Casino                       5019\n",
       "Music                        4128\n",
       "Parenting                    3747\n",
       "Comics                       2815\n",
       "Name: count, dtype: int64"
      ]
     },
     "execution_count": 18,
     "metadata": {},
     "output_type": "execute_result"
    }
   ],
   "source": [
    "#Xem các giá trị của Category\n",
    "df['Category'].value_counts()"
   ]
  },
  {
   "cell_type": "code",
   "execution_count": 19,
   "id": "d5fbd1ab",
   "metadata": {},
   "outputs": [],
   "source": [
    "#Gán nhãn cho từng giá trị trong cột\n",
    "lbl_category=LabelEncoder()\n",
    "df['Category']=lbl_category.fit_transform(df['Category'])"
   ]
  },
  {
   "cell_type": "code",
   "execution_count": 20,
   "id": "34a938d5",
   "metadata": {},
   "outputs": [
    {
     "data": {
      "text/plain": [
       "Category\n",
       "15    239244\n",
       "28    154381\n",
       "8     141630\n",
       "42    141363\n",
       "17    137280\n",
       "24    117588\n",
       "7     116349\n",
       "31     88785\n",
       "21     82340\n",
       "33     77848\n",
       "37     74645\n",
       "20     73292\n",
       "43     66494\n",
       "19     64488\n",
       "2      52441\n",
       "34     50090\n",
       "11     49060\n",
       "13     47366\n",
       "40     46913\n",
       "39     43956\n",
       "29     42492\n",
       "32     35333\n",
       "26     31539\n",
       "0      26691\n",
       "25     26268\n",
       "1      22710\n",
       "38     22654\n",
       "16     20962\n",
       "3      18321\n",
       "4      17869\n",
       "22     14119\n",
       "45     13906\n",
       "18     12631\n",
       "44     11656\n",
       "5      11640\n",
       "6      10417\n",
       "35     10148\n",
       "36      9607\n",
       "47      8512\n",
       "41      8200\n",
       "9       8025\n",
       "46      7106\n",
       "14      6419\n",
       "23      5048\n",
       "10      5019\n",
       "27      4128\n",
       "30      3747\n",
       "12      2815\n",
       "Name: count, dtype: int64"
      ]
     },
     "execution_count": 20,
     "metadata": {},
     "output_type": "execute_result"
    }
   ],
   "source": [
    "#Xem các giá trị của Category sau khi gán nhãn\n",
    "df['Category'].value_counts()"
   ]
  },
  {
   "cell_type": "markdown",
   "id": "585965ce",
   "metadata": {},
   "source": [
    "## 1.7.  Chuyển đổi kiểu dữ liệu cột Free thành dạng bool"
   ]
  },
  {
   "cell_type": "code",
   "execution_count": 21,
   "id": "82f61b50",
   "metadata": {},
   "outputs": [
    {
     "data": {
      "text/plain": [
       "Free\n",
       "True     2238972\n",
       "False      44563\n",
       "Name: count, dtype: int64"
      ]
     },
     "execution_count": 21,
     "metadata": {},
     "output_type": "execute_result"
    }
   ],
   "source": [
    "df.Free.value_counts()"
   ]
  },
  {
   "cell_type": "code",
   "execution_count": 22,
   "id": "284e6121",
   "metadata": {},
   "outputs": [],
   "source": [
    "df.Free=pd.Categorical(df.Free,ordered=True,categories=[False,True]).codes"
   ]
  },
  {
   "cell_type": "code",
   "execution_count": 23,
   "id": "cf66b97c",
   "metadata": {},
   "outputs": [
    {
     "data": {
      "text/plain": [
       "Free\n",
       "1    2238972\n",
       "0      44563\n",
       "Name: count, dtype: int64"
      ]
     },
     "execution_count": 23,
     "metadata": {},
     "output_type": "execute_result"
    }
   ],
   "source": [
    "df.Free.value_counts()"
   ]
  },
  {
   "cell_type": "markdown",
   "id": "838bbb83",
   "metadata": {},
   "source": [
    "## 1.8.  Chuyển đổi kiểu dữ liệu cột Ad Supported thành dạng bool"
   ]
  },
  {
   "cell_type": "code",
   "execution_count": 24,
   "id": "f4ffeba7",
   "metadata": {},
   "outputs": [
    {
     "data": {
      "text/plain": [
       "Ad Supported\n",
       "True     1141865\n",
       "False    1141670\n",
       "Name: count, dtype: int64"
      ]
     },
     "execution_count": 24,
     "metadata": {},
     "output_type": "execute_result"
    }
   ],
   "source": [
    "df['Ad Supported'].value_counts()"
   ]
  },
  {
   "cell_type": "code",
   "execution_count": 25,
   "id": "11f5ff39",
   "metadata": {},
   "outputs": [],
   "source": [
    "df['Ad Supported']=pd.Categorical(df['Ad Supported'],ordered=True,categories=[False,True]).codes"
   ]
  },
  {
   "cell_type": "code",
   "execution_count": 26,
   "id": "2d2e3f10",
   "metadata": {
    "scrolled": true
   },
   "outputs": [
    {
     "data": {
      "text/plain": [
       "Ad Supported\n",
       "1    1141865\n",
       "0    1141670\n",
       "Name: count, dtype: int64"
      ]
     },
     "execution_count": 26,
     "metadata": {},
     "output_type": "execute_result"
    }
   ],
   "source": [
    "df['Ad Supported'].value_counts()"
   ]
  },
  {
   "cell_type": "markdown",
   "id": "66d5ddea",
   "metadata": {},
   "source": [
    "## 1.9.  Chuyển đổi kiểu dữ liệu cột In App Purchases thành dạng bool"
   ]
  },
  {
   "cell_type": "code",
   "execution_count": 27,
   "id": "e6cf87b9",
   "metadata": {},
   "outputs": [
    {
     "data": {
      "text/plain": [
       "In App Purchases\n",
       "False    2091414\n",
       "True      192121\n",
       "Name: count, dtype: int64"
      ]
     },
     "execution_count": 27,
     "metadata": {},
     "output_type": "execute_result"
    }
   ],
   "source": [
    "df['In App Purchases'].value_counts()"
   ]
  },
  {
   "cell_type": "code",
   "execution_count": 28,
   "id": "cfc28ff6",
   "metadata": {},
   "outputs": [],
   "source": [
    "df['In App Purchases']=pd.Categorical(df['In App Purchases'],ordered=True,categories=[False,True]).codes"
   ]
  },
  {
   "cell_type": "code",
   "execution_count": 29,
   "id": "80420f9a",
   "metadata": {},
   "outputs": [
    {
     "data": {
      "text/plain": [
       "In App Purchases\n",
       "0    2091414\n",
       "1     192121\n",
       "Name: count, dtype: int64"
      ]
     },
     "execution_count": 29,
     "metadata": {},
     "output_type": "execute_result"
    }
   ],
   "source": [
    "df['In App Purchases'].value_counts()"
   ]
  },
  {
   "cell_type": "markdown",
   "id": "457a3d70",
   "metadata": {},
   "source": [
    "## 1.10.  Chuyển đổi kiểu dữ liệu cột In Editors Choice thành dạng bool"
   ]
  },
  {
   "cell_type": "code",
   "execution_count": 30,
   "id": "65847feb",
   "metadata": {},
   "outputs": [
    {
     "data": {
      "text/plain": [
       "Editors Choice\n",
       "False    2282683\n",
       "True         852\n",
       "Name: count, dtype: int64"
      ]
     },
     "execution_count": 30,
     "metadata": {},
     "output_type": "execute_result"
    }
   ],
   "source": [
    "df['Editors Choice'].value_counts()"
   ]
  },
  {
   "cell_type": "code",
   "execution_count": 31,
   "id": "09c719fa",
   "metadata": {},
   "outputs": [],
   "source": [
    "df['Editors Choice']=pd.Categorical(df['Editors Choice'],ordered=True,categories=[False,True]).codes"
   ]
  },
  {
   "cell_type": "code",
   "execution_count": 32,
   "id": "41310cc1",
   "metadata": {
    "scrolled": true
   },
   "outputs": [
    {
     "data": {
      "text/plain": [
       "Editors Choice\n",
       "0    2282683\n",
       "1        852\n",
       "Name: count, dtype: int64"
      ]
     },
     "execution_count": 32,
     "metadata": {},
     "output_type": "execute_result"
    }
   ],
   "source": [
    "df['Editors Choice'].value_counts()"
   ]
  },
  {
   "cell_type": "markdown",
   "id": "e8f7a506",
   "metadata": {},
   "source": [
    "## *Như vậy, ta đã có dữ liệu sạch để dùng để dự đoán."
   ]
  },
  {
   "cell_type": "code",
   "execution_count": 41,
   "id": "5db6b82a",
   "metadata": {},
   "outputs": [
    {
     "data": {
      "text/html": [
       "<div>\n",
       "<style scoped>\n",
       "    .dataframe tbody tr th:only-of-type {\n",
       "        vertical-align: middle;\n",
       "    }\n",
       "\n",
       "    .dataframe tbody tr th {\n",
       "        vertical-align: top;\n",
       "    }\n",
       "\n",
       "    .dataframe thead th {\n",
       "        text-align: right;\n",
       "    }\n",
       "</style>\n",
       "<table border=\"1\" class=\"dataframe\">\n",
       "  <thead>\n",
       "    <tr style=\"text-align: right;\">\n",
       "      <th></th>\n",
       "      <th>Category</th>\n",
       "      <th>Rating</th>\n",
       "      <th>Rating Count</th>\n",
       "      <th>Installs</th>\n",
       "      <th>Minimum Installs</th>\n",
       "      <th>Maximum Installs</th>\n",
       "      <th>Free</th>\n",
       "      <th>Price</th>\n",
       "      <th>Size</th>\n",
       "      <th>Minimum Android</th>\n",
       "      <th>Content Rating</th>\n",
       "      <th>Ad Supported</th>\n",
       "      <th>In App Purchases</th>\n",
       "      <th>Editors Choice</th>\n",
       "    </tr>\n",
       "  </thead>\n",
       "  <tbody>\n",
       "    <tr>\n",
       "      <th>0</th>\n",
       "      <td>1</td>\n",
       "      <td>0.0</td>\n",
       "      <td>0.0</td>\n",
       "      <td>10</td>\n",
       "      <td>10.0</td>\n",
       "      <td>15</td>\n",
       "      <td>1</td>\n",
       "      <td>0.0</td>\n",
       "      <td>10000.0</td>\n",
       "      <td>7.1</td>\n",
       "      <td>1</td>\n",
       "      <td>0</td>\n",
       "      <td>0</td>\n",
       "      <td>0</td>\n",
       "    </tr>\n",
       "    <tr>\n",
       "      <th>1</th>\n",
       "      <td>42</td>\n",
       "      <td>4.4</td>\n",
       "      <td>64.0</td>\n",
       "      <td>5000</td>\n",
       "      <td>5000.0</td>\n",
       "      <td>7662</td>\n",
       "      <td>1</td>\n",
       "      <td>0.0</td>\n",
       "      <td>2900.0</td>\n",
       "      <td>5.0</td>\n",
       "      <td>1</td>\n",
       "      <td>1</td>\n",
       "      <td>0</td>\n",
       "      <td>0</td>\n",
       "    </tr>\n",
       "    <tr>\n",
       "      <th>2</th>\n",
       "      <td>33</td>\n",
       "      <td>0.0</td>\n",
       "      <td>0.0</td>\n",
       "      <td>50</td>\n",
       "      <td>50.0</td>\n",
       "      <td>58</td>\n",
       "      <td>1</td>\n",
       "      <td>0.0</td>\n",
       "      <td>3700.0</td>\n",
       "      <td>4.0</td>\n",
       "      <td>1</td>\n",
       "      <td>0</td>\n",
       "      <td>0</td>\n",
       "      <td>0</td>\n",
       "    </tr>\n",
       "    <tr>\n",
       "      <th>3</th>\n",
       "      <td>13</td>\n",
       "      <td>5.0</td>\n",
       "      <td>5.0</td>\n",
       "      <td>10</td>\n",
       "      <td>10.0</td>\n",
       "      <td>19</td>\n",
       "      <td>1</td>\n",
       "      <td>0.0</td>\n",
       "      <td>1800.0</td>\n",
       "      <td>4.0</td>\n",
       "      <td>1</td>\n",
       "      <td>1</td>\n",
       "      <td>0</td>\n",
       "      <td>0</td>\n",
       "    </tr>\n",
       "    <tr>\n",
       "      <th>4</th>\n",
       "      <td>42</td>\n",
       "      <td>0.0</td>\n",
       "      <td>0.0</td>\n",
       "      <td>100</td>\n",
       "      <td>100.0</td>\n",
       "      <td>478</td>\n",
       "      <td>1</td>\n",
       "      <td>0.0</td>\n",
       "      <td>6200.0</td>\n",
       "      <td>4.1</td>\n",
       "      <td>1</td>\n",
       "      <td>0</td>\n",
       "      <td>0</td>\n",
       "      <td>0</td>\n",
       "    </tr>\n",
       "  </tbody>\n",
       "</table>\n",
       "</div>"
      ],
      "text/plain": [
       "   Category  Rating  Rating Count  Installs  Minimum Installs  \\\n",
       "0         1     0.0           0.0        10              10.0   \n",
       "1        42     4.4          64.0      5000            5000.0   \n",
       "2        33     0.0           0.0        50              50.0   \n",
       "3        13     5.0           5.0        10              10.0   \n",
       "4        42     0.0           0.0       100             100.0   \n",
       "\n",
       "   Maximum Installs  Free  Price     Size  Minimum Android  Content Rating  \\\n",
       "0                15     1    0.0  10000.0              7.1               1   \n",
       "1              7662     1    0.0   2900.0              5.0               1   \n",
       "2                58     1    0.0   3700.0              4.0               1   \n",
       "3                19     1    0.0   1800.0              4.0               1   \n",
       "4               478     1    0.0   6200.0              4.1               1   \n",
       "\n",
       "   Ad Supported  In App Purchases  Editors Choice  \n",
       "0             0                 0               0  \n",
       "1             1                 0               0  \n",
       "2             0                 0               0  \n",
       "3             1                 0               0  \n",
       "4             0                 0               0  "
      ]
     },
     "execution_count": 41,
     "metadata": {},
     "output_type": "execute_result"
    }
   ],
   "source": [
    "df.head()"
   ]
  },
  {
   "cell_type": "code",
   "execution_count": 34,
   "id": "e0a0d489",
   "metadata": {},
   "outputs": [],
   "source": [
    "df.drop(['Scraped Time'],axis=1,inplace=True)"
   ]
  },
  {
   "cell_type": "code",
   "execution_count": 42,
   "id": "9fc76333",
   "metadata": {},
   "outputs": [
    {
     "data": {
      "text/plain": [
       "[]"
      ]
     },
     "execution_count": 42,
     "metadata": {},
     "output_type": "execute_result"
    },
    {
     "data": {
      "image/png": "[encoded data removed]",
      "text/plain": [
       "<Figure size 2000x1500 with 2 Axes>"
      ]
     },
     "metadata": {},
     "output_type": "display_data"
    }
   ],
   "source": [
    "#Xem sự tương đồng giữa các thuộc tính\n",
    "plt.figure(figsize=(20,15))\n",
    "sns.heatmap(df.corr(),annot=True)\n",
    "plt.plot()"
   ]
  },
  {
   "cell_type": "code",
   "execution_count": 43,
   "id": "ba79245d",
   "metadata": {},
   "outputs": [
    {
     "name": "stdout",
     "output_type": "stream",
     "text": [
      "Mean Absolute Error: 1.939061850793028\n",
      "Mean Squared Error: 4.198444724207066\n",
      "Root Mean Squared Error: 2.0490106696176733\n"
     ]
    }
   ],
   "source": [
    "# Linear Regression\n",
    "X = df.drop(['Rating'], axis=1)\n",
    "y = df['Rating']\n",
    "\n",
    "X_train, X_test, y_train, y_test = train_test_split(X, y, test_size=0.2, random_state=0)\n",
    "model = LinearRegression()\n",
    "model.fit(X_train, y_train)\n",
    "y_pred = model.predict(X_test)\n",
    "print('Mean Absolute Error:', metrics.mean_absolute_error(y_test, y_pred))\n",
    "print('Mean Squared Error:', metrics.mean_squared_error(y_test, y_pred))\n",
    "print('Root Mean Squared Error:', np.sqrt(metrics.mean_squared_error(y_test, y_pred)))\n",
    "# predict the value of installs\n"
   ]
  },
  {
   "cell_type": "code",
   "execution_count": 44,
   "id": "7ef5015a",
   "metadata": {},
   "outputs": [
    {
     "data": {
      "text/html": [
       "<div>\n",
       "<style scoped>\n",
       "    .dataframe tbody tr th:only-of-type {\n",
       "        vertical-align: middle;\n",
       "    }\n",
       "\n",
       "    .dataframe tbody tr th {\n",
       "        vertical-align: top;\n",
       "    }\n",
       "\n",
       "    .dataframe thead th {\n",
       "        text-align: right;\n",
       "    }\n",
       "</style>\n",
       "<table border=\"1\" class=\"dataframe\">\n",
       "  <thead>\n",
       "    <tr style=\"text-align: right;\">\n",
       "      <th></th>\n",
       "      <th>Category</th>\n",
       "      <th>Rating Count</th>\n",
       "      <th>Installs</th>\n",
       "      <th>Minimum Installs</th>\n",
       "      <th>Maximum Installs</th>\n",
       "      <th>Free</th>\n",
       "      <th>Price</th>\n",
       "      <th>Size</th>\n",
       "      <th>Minimum Android</th>\n",
       "      <th>Content Rating</th>\n",
       "      <th>Ad Supported</th>\n",
       "      <th>In App Purchases</th>\n",
       "      <th>Editors Choice</th>\n",
       "    </tr>\n",
       "  </thead>\n",
       "  <tbody>\n",
       "    <tr>\n",
       "      <th>186370</th>\n",
       "      <td>15</td>\n",
       "      <td>0.0</td>\n",
       "      <td>100</td>\n",
       "      <td>100.0</td>\n",
       "      <td>105</td>\n",
       "      <td>1</td>\n",
       "      <td>0.0</td>\n",
       "      <td>9400.0</td>\n",
       "      <td>4.4</td>\n",
       "      <td>1</td>\n",
       "      <td>0</td>\n",
       "      <td>0</td>\n",
       "      <td>0</td>\n",
       "    </tr>\n",
       "    <tr>\n",
       "      <th>1874224</th>\n",
       "      <td>33</td>\n",
       "      <td>5.0</td>\n",
       "      <td>100</td>\n",
       "      <td>100.0</td>\n",
       "      <td>125</td>\n",
       "      <td>1</td>\n",
       "      <td>0.0</td>\n",
       "      <td>1800.0</td>\n",
       "      <td>4.1</td>\n",
       "      <td>1</td>\n",
       "      <td>0</td>\n",
       "      <td>0</td>\n",
       "      <td>0</td>\n",
       "    </tr>\n",
       "    <tr>\n",
       "      <th>1201034</th>\n",
       "      <td>21</td>\n",
       "      <td>0.0</td>\n",
       "      <td>100</td>\n",
       "      <td>100.0</td>\n",
       "      <td>310</td>\n",
       "      <td>1</td>\n",
       "      <td>0.0</td>\n",
       "      <td>8800.0</td>\n",
       "      <td>4.4</td>\n",
       "      <td>1</td>\n",
       "      <td>1</td>\n",
       "      <td>0</td>\n",
       "      <td>0</td>\n",
       "    </tr>\n",
       "    <tr>\n",
       "      <th>401821</th>\n",
       "      <td>40</td>\n",
       "      <td>138.0</td>\n",
       "      <td>10000</td>\n",
       "      <td>10000.0</td>\n",
       "      <td>14272</td>\n",
       "      <td>1</td>\n",
       "      <td>0.0</td>\n",
       "      <td>1000.0</td>\n",
       "      <td>4.0</td>\n",
       "      <td>1</td>\n",
       "      <td>1</td>\n",
       "      <td>0</td>\n",
       "      <td>0</td>\n",
       "    </tr>\n",
       "    <tr>\n",
       "      <th>1176311</th>\n",
       "      <td>17</td>\n",
       "      <td>0.0</td>\n",
       "      <td>100</td>\n",
       "      <td>100.0</td>\n",
       "      <td>145</td>\n",
       "      <td>1</td>\n",
       "      <td>0.0</td>\n",
       "      <td>5700.0</td>\n",
       "      <td>6.0</td>\n",
       "      <td>4</td>\n",
       "      <td>1</td>\n",
       "      <td>0</td>\n",
       "      <td>0</td>\n",
       "    </tr>\n",
       "    <tr>\n",
       "      <th>...</th>\n",
       "      <td>...</td>\n",
       "      <td>...</td>\n",
       "      <td>...</td>\n",
       "      <td>...</td>\n",
       "      <td>...</td>\n",
       "      <td>...</td>\n",
       "      <td>...</td>\n",
       "      <td>...</td>\n",
       "      <td>...</td>\n",
       "      <td>...</td>\n",
       "      <td>...</td>\n",
       "      <td>...</td>\n",
       "      <td>...</td>\n",
       "    </tr>\n",
       "    <tr>\n",
       "      <th>1633224</th>\n",
       "      <td>7</td>\n",
       "      <td>9.0</td>\n",
       "      <td>100</td>\n",
       "      <td>100.0</td>\n",
       "      <td>365</td>\n",
       "      <td>1</td>\n",
       "      <td>0.0</td>\n",
       "      <td>59000.0</td>\n",
       "      <td>4.1</td>\n",
       "      <td>1</td>\n",
       "      <td>1</td>\n",
       "      <td>0</td>\n",
       "      <td>0</td>\n",
       "    </tr>\n",
       "    <tr>\n",
       "      <th>390196</th>\n",
       "      <td>7</td>\n",
       "      <td>33.0</td>\n",
       "      <td>5000</td>\n",
       "      <td>5000.0</td>\n",
       "      <td>8387</td>\n",
       "      <td>1</td>\n",
       "      <td>0.0</td>\n",
       "      <td>4800.0</td>\n",
       "      <td>4.1</td>\n",
       "      <td>1</td>\n",
       "      <td>1</td>\n",
       "      <td>0</td>\n",
       "      <td>0</td>\n",
       "    </tr>\n",
       "    <tr>\n",
       "      <th>713739</th>\n",
       "      <td>17</td>\n",
       "      <td>449.0</td>\n",
       "      <td>50000</td>\n",
       "      <td>50000.0</td>\n",
       "      <td>53980</td>\n",
       "      <td>1</td>\n",
       "      <td>0.0</td>\n",
       "      <td>1000.0</td>\n",
       "      <td>4.0</td>\n",
       "      <td>1</td>\n",
       "      <td>1</td>\n",
       "      <td>0</td>\n",
       "      <td>0</td>\n",
       "    </tr>\n",
       "    <tr>\n",
       "      <th>408371</th>\n",
       "      <td>26</td>\n",
       "      <td>0.0</td>\n",
       "      <td>100</td>\n",
       "      <td>100.0</td>\n",
       "      <td>104</td>\n",
       "      <td>1</td>\n",
       "      <td>0.0</td>\n",
       "      <td>74000.0</td>\n",
       "      <td>6.0</td>\n",
       "      <td>1</td>\n",
       "      <td>0</td>\n",
       "      <td>0</td>\n",
       "      <td>0</td>\n",
       "    </tr>\n",
       "    <tr>\n",
       "      <th>335446</th>\n",
       "      <td>11</td>\n",
       "      <td>15.0</td>\n",
       "      <td>100</td>\n",
       "      <td>100.0</td>\n",
       "      <td>364</td>\n",
       "      <td>1</td>\n",
       "      <td>0.0</td>\n",
       "      <td>6000.0</td>\n",
       "      <td>2.3</td>\n",
       "      <td>1</td>\n",
       "      <td>1</td>\n",
       "      <td>0</td>\n",
       "      <td>0</td>\n",
       "    </tr>\n",
       "  </tbody>\n",
       "</table>\n",
       "<p>456707 rows × 13 columns</p>\n",
       "</div>"
      ],
      "text/plain": [
       "         Category  Rating Count  Installs  Minimum Installs  Maximum Installs  \\\n",
       "186370         15           0.0       100             100.0               105   \n",
       "1874224        33           5.0       100             100.0               125   \n",
       "1201034        21           0.0       100             100.0               310   \n",
       "401821         40         138.0     10000           10000.0             14272   \n",
       "1176311        17           0.0       100             100.0               145   \n",
       "...           ...           ...       ...               ...               ...   \n",
       "1633224         7           9.0       100             100.0               365   \n",
       "390196          7          33.0      5000            5000.0              8387   \n",
       "713739         17         449.0     50000           50000.0             53980   \n",
       "408371         26           0.0       100             100.0               104   \n",
       "335446         11          15.0       100             100.0               364   \n",
       "\n",
       "         Free  Price     Size  Minimum Android  Content Rating  Ad Supported  \\\n",
       "186370      1    0.0   9400.0              4.4               1             0   \n",
       "1874224     1    0.0   1800.0              4.1               1             0   \n",
       "1201034     1    0.0   8800.0              4.4               1             1   \n",
       "401821      1    0.0   1000.0              4.0               1             1   \n",
       "1176311     1    0.0   5700.0              6.0               4             1   \n",
       "...       ...    ...      ...              ...             ...           ...   \n",
       "1633224     1    0.0  59000.0              4.1               1             1   \n",
       "390196      1    0.0   4800.0              4.1               1             1   \n",
       "713739      1    0.0   1000.0              4.0               1             1   \n",
       "408371      1    0.0  74000.0              6.0               1             0   \n",
       "335446      1    0.0   6000.0              2.3               1             1   \n",
       "\n",
       "         In App Purchases  Editors Choice  \n",
       "186370                  0               0  \n",
       "1874224                 0               0  \n",
       "1201034                 0               0  \n",
       "401821                  0               0  \n",
       "1176311                 0               0  \n",
       "...                   ...             ...  \n",
       "1633224                 0               0  \n",
       "390196                  0               0  \n",
       "713739                  0               0  \n",
       "408371                  0               0  \n",
       "335446                  0               0  \n",
       "\n",
       "[456707 rows x 13 columns]"
      ]
     },
     "execution_count": 44,
     "metadata": {},
     "output_type": "execute_result"
    }
   ],
   "source": [
    "X_test"
   ]
  },
  {
   "cell_type": "code",
   "execution_count": 64,
   "id": "934be4bd",
   "metadata": {},
   "outputs": [
    {
     "data": {
      "text/html": [
       "<div>\n",
       "<style scoped>\n",
       "    .dataframe tbody tr th:only-of-type {\n",
       "        vertical-align: middle;\n",
       "    }\n",
       "\n",
       "    .dataframe tbody tr th {\n",
       "        vertical-align: top;\n",
       "    }\n",
       "\n",
       "    .dataframe thead th {\n",
       "        text-align: right;\n",
       "    }\n",
       "</style>\n",
       "<table border=\"1\" class=\"dataframe\">\n",
       "  <thead>\n",
       "    <tr style=\"text-align: right;\">\n",
       "      <th></th>\n",
       "      <th>Category</th>\n",
       "      <th>Rating Count</th>\n",
       "      <th>Installs</th>\n",
       "      <th>Minimum Installs</th>\n",
       "      <th>Maximum Installs</th>\n",
       "      <th>Free</th>\n",
       "      <th>Price</th>\n",
       "      <th>Size</th>\n",
       "      <th>Minimum Android</th>\n",
       "      <th>Content Rating</th>\n",
       "      <th>Ad Supported</th>\n",
       "      <th>In App Purchases</th>\n",
       "      <th>Editors Choice</th>\n",
       "    </tr>\n",
       "  </thead>\n",
       "  <tbody>\n",
       "    <tr>\n",
       "      <th>186370</th>\n",
       "      <td>15</td>\n",
       "      <td>0.0</td>\n",
       "      <td>100</td>\n",
       "      <td>100.0</td>\n",
       "      <td>105</td>\n",
       "      <td>1</td>\n",
       "      <td>0.0</td>\n",
       "      <td>9400.0</td>\n",
       "      <td>4.4</td>\n",
       "      <td>1</td>\n",
       "      <td>0</td>\n",
       "      <td>0</td>\n",
       "      <td>0</td>\n",
       "    </tr>\n",
       "  </tbody>\n",
       "</table>\n",
       "</div>"
      ],
      "text/plain": [
       "        Category  Rating Count  Installs  Minimum Installs  Maximum Installs  \\\n",
       "186370        15           0.0       100             100.0               105   \n",
       "\n",
       "        Free  Price    Size  Minimum Android  Content Rating  Ad Supported  \\\n",
       "186370     1    0.0  9400.0              4.4               1             0   \n",
       "\n",
       "        In App Purchases  Editors Choice  \n",
       "186370                 0               0  "
      ]
     },
     "execution_count": 64,
     "metadata": {},
     "output_type": "execute_result"
    }
   ],
   "source": [
    "X_test[:1]"
   ]
  },
  {
   "cell_type": "code",
   "execution_count": 65,
   "id": "80cdd5fb",
   "metadata": {},
   "outputs": [
    {
     "name": "stdout",
     "output_type": "stream",
     "text": [
      "[1.72812981 1.86126593]\n"
     ]
    }
   ],
   "source": [
    "X_test[:1]\n",
    "print(model.predict(X_test[:2]))"
   ]
  },
  {
   "cell_type": "code",
   "execution_count": 48,
   "id": "493b3be1",
   "metadata": {},
   "outputs": [],
   "source": [
    "import pickle\n",
    " \n",
    "# save the model to disk\n",
    "filename = 'linear_regression_model1'\n",
    "pickle.dump(model, open(filename, 'wb'))"
   ]
  }
 ],
 "metadata": {
  "kernelspec": {
   "display_name": ".venv",
   "language": "python",
   "name": "python3"
  },
  "language_info": {
   "codemirror_mode": {
    "name": "ipython",
    "version": 3
   },
   "file_extension": ".py",
   "mimetype": "text/x-python",
   "name": "python",
   "nbconvert_exporter": "python",
   "pygments_lexer": "ipython3",
   "version": "3.12.4"
  }
 },
 "nbformat": 4,
 "nbformat_minor": 5
}
