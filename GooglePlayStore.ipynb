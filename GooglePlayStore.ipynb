{
 "cells": [
  {
   "cell_type": "code",
   "execution_count": 1,
   "id": "c67a3c3d",
   "metadata": {},
   "outputs": [],
   "source": [
    "%matplotlib inline\n",
    "import matplotlib.pyplot as plt\n",
    "\n",
    "import pandas as pd\n",
    "import numpy as np\n",
    "import seaborn as sns\n",
    "import warnings\n",
    "\n",
    "from sklearn.model_selection import train_test_split\n",
    "from sklearn.preprocessing import LabelEncoder\n",
    "##from sklearn.metrics import r2_score\n",
    "from sklearn.linear_model import LinearRegression\n",
    "from sklearn import tree\n",
    "from sklearn.naive_bayes import GaussianNB\n",
    "from sklearn import metrics\n",
    "from sklearn.ensemble import RandomForestClassifier"
   ]
  },
  {
   "cell_type": "markdown",
   "id": "3d19d990",
   "metadata": {},
   "source": [
    "## 1. Chương 1 : Đọc dữ liệu và Tiền xử lý "
   ]
  },
  {
   "cell_type": "code",
   "execution_count": 21,
   "id": "78e513d6",
   "metadata": {},
   "outputs": [],
   "source": [
    "df = pd.read_csv(\"D:/HK6/KhaiThacDL/BaoCao/CSV/Google-Playstore.csv\")"
   ]
  },
  {
   "cell_type": "code",
   "execution_count": 22,
   "id": "470cbe6f",
   "metadata": {
    "scrolled": true
   },
   "outputs": [
    {
     "data": {
      "text/html": [
       "<div>\n",
       "<style scoped>\n",
       "    .dataframe tbody tr th:only-of-type {\n",
       "        vertical-align: middle;\n",
       "    }\n",
       "\n",
       "    .dataframe tbody tr th {\n",
       "        vertical-align: top;\n",
       "    }\n",
       "\n",
       "    .dataframe thead th {\n",
       "        text-align: right;\n",
       "    }\n",
       "</style>\n",
       "<table border=\"1\" class=\"dataframe\">\n",
       "  <thead>\n",
       "    <tr style=\"text-align: right;\">\n",
       "      <th></th>\n",
       "      <th>App Name</th>\n",
       "      <th>App Id</th>\n",
       "      <th>Category</th>\n",
       "      <th>Rating</th>\n",
       "      <th>Rating Count</th>\n",
       "      <th>Installs</th>\n",
       "      <th>Minimum Installs</th>\n",
       "      <th>Maximum Installs</th>\n",
       "      <th>Free</th>\n",
       "      <th>Price</th>\n",
       "      <th>...</th>\n",
       "      <th>Developer Id</th>\n",
       "      <th>Developer Website</th>\n",
       "      <th>Developer Email</th>\n",
       "      <th>Released</th>\n",
       "      <th>Last Updated</th>\n",
       "      <th>Content Rating</th>\n",
       "      <th>Privacy Policy</th>\n",
       "      <th>Ad Supported</th>\n",
       "      <th>In App Purchases</th>\n",
       "      <th>Editors Choice</th>\n",
       "    </tr>\n",
       "  </thead>\n",
       "  <tbody>\n",
       "    <tr>\n",
       "      <th>0</th>\n",
       "      <td>HTTrack Website Copier</td>\n",
       "      <td>com.httrack.android</td>\n",
       "      <td>Communication</td>\n",
       "      <td>3.6</td>\n",
       "      <td>2848.0</td>\n",
       "      <td>100,000+</td>\n",
       "      <td>100000.0</td>\n",
       "      <td>351560</td>\n",
       "      <td>True</td>\n",
       "      <td>0.0</td>\n",
       "      <td>...</td>\n",
       "      <td>Xavier Roche</td>\n",
       "      <td>http://www.httrack.com/</td>\n",
       "      <td>roche+android@httrack.com</td>\n",
       "      <td>Aug 12, 2013</td>\n",
       "      <td>May 20, 2017</td>\n",
       "      <td>Everyone</td>\n",
       "      <td>http://android.httrack.com/privacy-policy.html</td>\n",
       "      <td>False</td>\n",
       "      <td>False</td>\n",
       "      <td>False</td>\n",
       "    </tr>\n",
       "    <tr>\n",
       "      <th>1</th>\n",
       "      <td>World War 2: Offline Strategy</td>\n",
       "      <td>com.skizze.wwii</td>\n",
       "      <td>Strategy</td>\n",
       "      <td>4.3</td>\n",
       "      <td>17297.0</td>\n",
       "      <td>1,000,000+</td>\n",
       "      <td>1000000.0</td>\n",
       "      <td>2161778</td>\n",
       "      <td>True</td>\n",
       "      <td>0.0</td>\n",
       "      <td>...</td>\n",
       "      <td>Skizze Games</td>\n",
       "      <td>http://stereo7.com/</td>\n",
       "      <td>Skizze.Games@gmail.com</td>\n",
       "      <td>Jul 19, 2018</td>\n",
       "      <td>Nov 26, 2020</td>\n",
       "      <td>Everyone 10+</td>\n",
       "      <td>https://www.iubenda.com/privacy-policy/8032781</td>\n",
       "      <td>True</td>\n",
       "      <td>True</td>\n",
       "      <td>False</td>\n",
       "    </tr>\n",
       "    <tr>\n",
       "      <th>2</th>\n",
       "      <td>WPSApp</td>\n",
       "      <td>com.themausoft.wpsapp</td>\n",
       "      <td>Tools</td>\n",
       "      <td>4.2</td>\n",
       "      <td>488639.0</td>\n",
       "      <td>50,000,000+</td>\n",
       "      <td>50000000.0</td>\n",
       "      <td>79304739</td>\n",
       "      <td>True</td>\n",
       "      <td>0.0</td>\n",
       "      <td>...</td>\n",
       "      <td>TheMauSoft</td>\n",
       "      <td>http://www.themausoft.com</td>\n",
       "      <td>wpsapp.app@gmail.com</td>\n",
       "      <td>Mar 7, 2016</td>\n",
       "      <td>Oct 21, 2020</td>\n",
       "      <td>Everyone</td>\n",
       "      <td>https://sites.google.com/view/wpsapppolicy/main</td>\n",
       "      <td>True</td>\n",
       "      <td>False</td>\n",
       "      <td>False</td>\n",
       "    </tr>\n",
       "    <tr>\n",
       "      <th>3</th>\n",
       "      <td>OfficeSuite - Office, PDF, Word, Excel, PowerP...</td>\n",
       "      <td>com.mobisystems.office</td>\n",
       "      <td>Business</td>\n",
       "      <td>4.2</td>\n",
       "      <td>1224420.0</td>\n",
       "      <td>100,000,000+</td>\n",
       "      <td>100000000.0</td>\n",
       "      <td>163660067</td>\n",
       "      <td>True</td>\n",
       "      <td>0.0</td>\n",
       "      <td>...</td>\n",
       "      <td>MobiSystems</td>\n",
       "      <td>http://www.mobisystems.com</td>\n",
       "      <td>support-officesuite-android@mobisystems.com</td>\n",
       "      <td>Dec 22, 2011</td>\n",
       "      <td>Nov 23, 2020</td>\n",
       "      <td>Everyone</td>\n",
       "      <td>http://www.mobisystems.com/mobile/privacy-poli...</td>\n",
       "      <td>True</td>\n",
       "      <td>True</td>\n",
       "      <td>False</td>\n",
       "    </tr>\n",
       "    <tr>\n",
       "      <th>4</th>\n",
       "      <td>Loud Player Free</td>\n",
       "      <td>com.arthelion.loudplayer</td>\n",
       "      <td>Music &amp; Audio</td>\n",
       "      <td>4.2</td>\n",
       "      <td>665.0</td>\n",
       "      <td>50,000+</td>\n",
       "      <td>50000.0</td>\n",
       "      <td>73463</td>\n",
       "      <td>True</td>\n",
       "      <td>0.0</td>\n",
       "      <td>...</td>\n",
       "      <td>Arthelion92</td>\n",
       "      <td>http://www.arthelion.com</td>\n",
       "      <td>arthelion92@gmail.com</td>\n",
       "      <td>Sep 24, 2016</td>\n",
       "      <td>Nov 22, 2020</td>\n",
       "      <td>Everyone</td>\n",
       "      <td>http://www.arthelion.com/index.php/fr/android-...</td>\n",
       "      <td>False</td>\n",
       "      <td>False</td>\n",
       "      <td>False</td>\n",
       "    </tr>\n",
       "  </tbody>\n",
       "</table>\n",
       "<p>5 rows × 23 columns</p>\n",
       "</div>"
      ],
      "text/plain": [
       "                                            App Name  \\\n",
       "0                             HTTrack Website Copier   \n",
       "1                      World War 2: Offline Strategy   \n",
       "2                                             WPSApp   \n",
       "3  OfficeSuite - Office, PDF, Word, Excel, PowerP...   \n",
       "4                                   Loud Player Free   \n",
       "\n",
       "                     App Id       Category  Rating  Rating Count  \\\n",
       "0       com.httrack.android  Communication     3.6        2848.0   \n",
       "1           com.skizze.wwii       Strategy     4.3       17297.0   \n",
       "2     com.themausoft.wpsapp          Tools     4.2      488639.0   \n",
       "3    com.mobisystems.office       Business     4.2     1224420.0   \n",
       "4  com.arthelion.loudplayer  Music & Audio     4.2         665.0   \n",
       "\n",
       "       Installs  Minimum Installs  Maximum Installs  Free  Price  ...  \\\n",
       "0      100,000+          100000.0            351560  True    0.0  ...   \n",
       "1    1,000,000+         1000000.0           2161778  True    0.0  ...   \n",
       "2   50,000,000+        50000000.0          79304739  True    0.0  ...   \n",
       "3  100,000,000+       100000000.0         163660067  True    0.0  ...   \n",
       "4       50,000+           50000.0             73463  True    0.0  ...   \n",
       "\n",
       "   Developer Id           Developer Website  \\\n",
       "0  Xavier Roche     http://www.httrack.com/   \n",
       "1  Skizze Games         http://stereo7.com/   \n",
       "2    TheMauSoft   http://www.themausoft.com   \n",
       "3   MobiSystems  http://www.mobisystems.com   \n",
       "4   Arthelion92    http://www.arthelion.com   \n",
       "\n",
       "                               Developer Email      Released  Last Updated  \\\n",
       "0                    roche+android@httrack.com  Aug 12, 2013  May 20, 2017   \n",
       "1                       Skizze.Games@gmail.com  Jul 19, 2018  Nov 26, 2020   \n",
       "2                         wpsapp.app@gmail.com   Mar 7, 2016  Oct 21, 2020   \n",
       "3  support-officesuite-android@mobisystems.com  Dec 22, 2011  Nov 23, 2020   \n",
       "4                        arthelion92@gmail.com  Sep 24, 2016  Nov 22, 2020   \n",
       "\n",
       "  Content Rating                                     Privacy Policy  \\\n",
       "0       Everyone     http://android.httrack.com/privacy-policy.html   \n",
       "1   Everyone 10+     https://www.iubenda.com/privacy-policy/8032781   \n",
       "2       Everyone    https://sites.google.com/view/wpsapppolicy/main   \n",
       "3       Everyone  http://www.mobisystems.com/mobile/privacy-poli...   \n",
       "4       Everyone  http://www.arthelion.com/index.php/fr/android-...   \n",
       "\n",
       "  Ad Supported In App Purchases Editors Choice  \n",
       "0        False            False          False  \n",
       "1         True             True          False  \n",
       "2         True            False          False  \n",
       "3         True             True          False  \n",
       "4        False            False          False  \n",
       "\n",
       "[5 rows x 23 columns]"
      ]
     },
     "execution_count": 22,
     "metadata": {},
     "output_type": "execute_result"
    }
   ],
   "source": [
    "df.head()"
   ]
  },
  {
   "cell_type": "code",
   "execution_count": 23,
   "id": "75610227",
   "metadata": {},
   "outputs": [],
   "source": [
    "#Xóa những cột không cần thiết\n",
    "df.drop(['App Name', 'App Id','Developer Website','Developer Email','Developer Id','Privacy Policy', 'Released','Last Updated','Currency'],axis=1,inplace=True)"
   ]
  },
  {
   "cell_type": "code",
   "execution_count": 24,
   "id": "2e0b4e6b",
   "metadata": {
    "scrolled": true
   },
   "outputs": [
    {
     "data": {
      "text/html": [
       "<div>\n",
       "<style scoped>\n",
       "    .dataframe tbody tr th:only-of-type {\n",
       "        vertical-align: middle;\n",
       "    }\n",
       "\n",
       "    .dataframe tbody tr th {\n",
       "        vertical-align: top;\n",
       "    }\n",
       "\n",
       "    .dataframe thead th {\n",
       "        text-align: right;\n",
       "    }\n",
       "</style>\n",
       "<table border=\"1\" class=\"dataframe\">\n",
       "  <thead>\n",
       "    <tr style=\"text-align: right;\">\n",
       "      <th></th>\n",
       "      <th>Category</th>\n",
       "      <th>Rating</th>\n",
       "      <th>Rating Count</th>\n",
       "      <th>Installs</th>\n",
       "      <th>Minimum Installs</th>\n",
       "      <th>Maximum Installs</th>\n",
       "      <th>Free</th>\n",
       "      <th>Price</th>\n",
       "      <th>Size</th>\n",
       "      <th>Minimum Android</th>\n",
       "      <th>Content Rating</th>\n",
       "      <th>Ad Supported</th>\n",
       "      <th>In App Purchases</th>\n",
       "      <th>Editors Choice</th>\n",
       "    </tr>\n",
       "  </thead>\n",
       "  <tbody>\n",
       "    <tr>\n",
       "      <th>0</th>\n",
       "      <td>Communication</td>\n",
       "      <td>3.6</td>\n",
       "      <td>2848.0</td>\n",
       "      <td>100,000+</td>\n",
       "      <td>100000.0</td>\n",
       "      <td>351560</td>\n",
       "      <td>True</td>\n",
       "      <td>0.0</td>\n",
       "      <td>2.7M</td>\n",
       "      <td>2.3 and up</td>\n",
       "      <td>Everyone</td>\n",
       "      <td>False</td>\n",
       "      <td>False</td>\n",
       "      <td>False</td>\n",
       "    </tr>\n",
       "    <tr>\n",
       "      <th>1</th>\n",
       "      <td>Strategy</td>\n",
       "      <td>4.3</td>\n",
       "      <td>17297.0</td>\n",
       "      <td>1,000,000+</td>\n",
       "      <td>1000000.0</td>\n",
       "      <td>2161778</td>\n",
       "      <td>True</td>\n",
       "      <td>0.0</td>\n",
       "      <td>86M</td>\n",
       "      <td>5.1 and up</td>\n",
       "      <td>Everyone 10+</td>\n",
       "      <td>True</td>\n",
       "      <td>True</td>\n",
       "      <td>False</td>\n",
       "    </tr>\n",
       "    <tr>\n",
       "      <th>2</th>\n",
       "      <td>Tools</td>\n",
       "      <td>4.2</td>\n",
       "      <td>488639.0</td>\n",
       "      <td>50,000,000+</td>\n",
       "      <td>50000000.0</td>\n",
       "      <td>79304739</td>\n",
       "      <td>True</td>\n",
       "      <td>0.0</td>\n",
       "      <td>5.8M</td>\n",
       "      <td>4.1 and up</td>\n",
       "      <td>Everyone</td>\n",
       "      <td>True</td>\n",
       "      <td>False</td>\n",
       "      <td>False</td>\n",
       "    </tr>\n",
       "    <tr>\n",
       "      <th>3</th>\n",
       "      <td>Business</td>\n",
       "      <td>4.2</td>\n",
       "      <td>1224420.0</td>\n",
       "      <td>100,000,000+</td>\n",
       "      <td>100000000.0</td>\n",
       "      <td>163660067</td>\n",
       "      <td>True</td>\n",
       "      <td>0.0</td>\n",
       "      <td>59M</td>\n",
       "      <td>4.4 and up</td>\n",
       "      <td>Everyone</td>\n",
       "      <td>True</td>\n",
       "      <td>True</td>\n",
       "      <td>False</td>\n",
       "    </tr>\n",
       "    <tr>\n",
       "      <th>4</th>\n",
       "      <td>Music &amp; Audio</td>\n",
       "      <td>4.2</td>\n",
       "      <td>665.0</td>\n",
       "      <td>50,000+</td>\n",
       "      <td>50000.0</td>\n",
       "      <td>73463</td>\n",
       "      <td>True</td>\n",
       "      <td>0.0</td>\n",
       "      <td>29M</td>\n",
       "      <td>5.0 and up</td>\n",
       "      <td>Everyone</td>\n",
       "      <td>False</td>\n",
       "      <td>False</td>\n",
       "      <td>False</td>\n",
       "    </tr>\n",
       "  </tbody>\n",
       "</table>\n",
       "</div>"
      ],
      "text/plain": [
       "        Category  Rating  Rating Count      Installs  Minimum Installs  \\\n",
       "0  Communication     3.6        2848.0      100,000+          100000.0   \n",
       "1       Strategy     4.3       17297.0    1,000,000+         1000000.0   \n",
       "2          Tools     4.2      488639.0   50,000,000+        50000000.0   \n",
       "3       Business     4.2     1224420.0  100,000,000+       100000000.0   \n",
       "4  Music & Audio     4.2         665.0       50,000+           50000.0   \n",
       "\n",
       "   Maximum Installs  Free  Price  Size Minimum Android Content Rating  \\\n",
       "0            351560  True    0.0  2.7M      2.3 and up       Everyone   \n",
       "1           2161778  True    0.0   86M      5.1 and up   Everyone 10+   \n",
       "2          79304739  True    0.0  5.8M      4.1 and up       Everyone   \n",
       "3         163660067  True    0.0   59M      4.4 and up       Everyone   \n",
       "4             73463  True    0.0   29M      5.0 and up       Everyone   \n",
       "\n",
       "   Ad Supported  In App Purchases  Editors Choice  \n",
       "0         False             False           False  \n",
       "1          True              True           False  \n",
       "2          True             False           False  \n",
       "3          True              True           False  \n",
       "4         False             False           False  "
      ]
     },
     "execution_count": 24,
     "metadata": {},
     "output_type": "execute_result"
    }
   ],
   "source": [
    "df.head()"
   ]
  },
  {
   "cell_type": "markdown",
   "id": "1795b805",
   "metadata": {},
   "source": [
    "## 1.1. Xử lý dữ liệu bị mất\n"
   ]
  },
  {
   "cell_type": "code",
   "execution_count": 25,
   "id": "008be8bf",
   "metadata": {},
   "outputs": [
    {
     "name": "stdout",
     "output_type": "stream",
     "text": [
      "Category have \t3   null value\n",
      "Rating have \t6850   null value\n",
      "Rating Count have \t6850   null value\n",
      "Installs have \t161   null value\n",
      "Minimum Installs have \t161   null value\n",
      "Maximum Installs have \t0   null value\n",
      "Free have \t0   null value\n",
      "Price have \t0   null value\n",
      "Size have \t0   null value\n",
      "Minimum Android have \t2013   null value\n",
      "Content Rating have \t0   null value\n",
      "Ad Supported have \t0   null value\n",
      "In App Purchases have \t0   null value\n",
      "Editors Choice have \t0   null value\n"
     ]
    }
   ],
   "source": [
    "#Đếm số lượng dữ liệu bị mất của từng cột\n",
    "for col in df.columns:\n",
    "    null=df[col].isnull().sum()\n",
    "    print('{0} have \\t{1}   null value'.format(col,null))"
   ]
  },
  {
   "cell_type": "code",
   "execution_count": 26,
   "id": "d38c6ff2",
   "metadata": {},
   "outputs": [
    {
     "name": "stdout",
     "output_type": "stream",
     "text": [
      "<class 'pandas.core.frame.DataFrame'>\n",
      "RangeIndex: 1118136 entries, 0 to 1118135\n",
      "Data columns (total 14 columns):\n",
      " #   Column            Non-Null Count    Dtype  \n",
      "---  ------            --------------    -----  \n",
      " 0   Category          1118133 non-null  object \n",
      " 1   Rating            1111286 non-null  float64\n",
      " 2   Rating Count      1111286 non-null  float64\n",
      " 3   Installs          1117975 non-null  object \n",
      " 4   Minimum Installs  1117975 non-null  float64\n",
      " 5   Maximum Installs  1118136 non-null  int64  \n",
      " 6   Free              1118136 non-null  bool   \n",
      " 7   Price             1118136 non-null  float64\n",
      " 8   Size              1118136 non-null  object \n",
      " 9   Minimum Android   1116123 non-null  object \n",
      " 10  Content Rating    1118136 non-null  object \n",
      " 11  Ad Supported      1118136 non-null  bool   \n",
      " 12  In App Purchases  1118136 non-null  bool   \n",
      " 13  Editors Choice    1118136 non-null  bool   \n",
      "dtypes: bool(4), float64(4), int64(1), object(5)\n",
      "memory usage: 89.6+ MB\n"
     ]
    }
   ],
   "source": [
    "df.info()"
   ]
  },
  {
   "cell_type": "code",
   "execution_count": 27,
   "id": "7f1c8b9c",
   "metadata": {},
   "outputs": [],
   "source": [
    "#Xóa những dòng dữ liệu bị mất vì số lượng dữ liệu bị mất không đáng kể\n",
    "##df.fillna(method='bfill',inplace=True)\n",
    "df = df.dropna()"
   ]
  },
  {
   "cell_type": "code",
   "execution_count": 28,
   "id": "860f0a2f",
   "metadata": {},
   "outputs": [
    {
     "name": "stdout",
     "output_type": "stream",
     "text": [
      "Category have 0   null value\n",
      "Rating have 0   null value\n",
      "Rating Count have 0   null value\n",
      "Installs have 0   null value\n",
      "Minimum Installs have 0   null value\n",
      "Maximum Installs have 0   null value\n",
      "Free have 0   null value\n",
      "Price have 0   null value\n",
      "Size have 0   null value\n",
      "Minimum Android have 0   null value\n",
      "Content Rating have 0   null value\n",
      "Ad Supported have 0   null value\n",
      "In App Purchases have 0   null value\n",
      "Editors Choice have 0   null value\n"
     ]
    }
   ],
   "source": [
    "#Đếm lại\n",
    "for col in df.columns:\n",
    "    null=df[col].isnull().sum()\n",
    "    print('{0} have {1}   null value'.format(col,null))"
   ]
  },
  {
   "cell_type": "markdown",
   "id": "f2cc8fa7",
   "metadata": {},
   "source": [
    "## 1.2. Chuyển đổi kiểu dữ liệu cột Installs thành kiểu int"
   ]
  },
  {
   "cell_type": "code",
   "execution_count": 29,
   "id": "f490503d",
   "metadata": {},
   "outputs": [],
   "source": [
    "#Các lệnh sẽ loại dấu ',' và '+' trong giá trị của installs\n",
    "def string_to_numeric(data):\n",
    "    data=data.replace(',','')\n",
    "    data=data[:-1]\n",
    "    return int(data)\n",
    "\n",
    "df['Installs'] = df['Installs'].apply(string_to_numeric)"
   ]
  },
  {
   "cell_type": "code",
   "execution_count": 31,
   "id": "ddc07212",
   "metadata": {},
   "outputs": [
    {
     "name": "stderr",
     "output_type": "stream",
     "text": [
      "C:\\Users\\hoang\\AppData\\Local\\Programs\\Python\\Python310\\lib\\site-packages\\seaborn\\_decorators.py:36: FutureWarning: Pass the following variable as a keyword arg: x. From version 0.12, the only valid positional argument will be `data`, and passing other arguments without an explicit keyword will result in an error or misinterpretation.\n",
      "  warnings.warn(\n"
     ]
    },
    {
     "data": {
      "text/plain": [
       "[]"
      ]
     },
     "execution_count": 31,
     "metadata": {},
     "output_type": "execute_result"
    },
    {
     "data": {
      "image/png": "[encoded data removed]",
      "text/plain": [
       "<Figure size 1440x1080 with 1 Axes>"
      ]
     },
     "metadata": {
      "needs_background": "light"
     },
     "output_type": "display_data"
    }
   ],
   "source": [
    "plt.figure(figsize=(20,15))\n",
    "sns.countplot(df['Installs'])\n",
    "plt.plot()"
   ]
  },
  {
   "cell_type": "markdown",
   "id": "418e5c8f",
   "metadata": {},
   "source": [
    "## 1.3.  Chuyển đổi kiểu dữ liệu cột Size thành kiểu int"
   ]
  },
  {
   "cell_type": "code",
   "execution_count": 33,
   "id": "079ed7b0",
   "metadata": {},
   "outputs": [],
   "source": [
    "#Đổi các kích thước về Kilobyte\n",
    "def define_size(data):\n",
    "    data=data.replace(',','')\n",
    "    num=data[:-1]\n",
    "    if data[-1]=='K' or data[-1]=='k' :\n",
    "        return float(num)\n",
    "    elif data[-1]=='M' or data[-1]=='m':\n",
    "        return float(num)*1000\n",
    "    elif data[-1]=='G' or data[-1]=='g':\n",
    "        return float(num)*1000000\n",
    "    else:\n",
    "        return 1000\n",
    "df['Size']=df['Size'].apply(define_size)"
   ]
  },
  {
   "cell_type": "markdown",
   "id": "3fcd0be4",
   "metadata": {},
   "source": [
    "## 1.4.  Chuyển đổi kiểu dữ liệu cột Content Rating thành dạng số để phù hợp với đầu vào"
   ]
  },
  {
   "cell_type": "code",
   "execution_count": 35,
   "id": "9df20dca",
   "metadata": {},
   "outputs": [
    {
     "data": {
      "text/plain": [
       "Everyone           960746\n",
       "Teen                98920\n",
       "Mature 17+          31735\n",
       "Everyone 10+        17753\n",
       "Unrated                66\n",
       "Adults only 18+        52\n",
       "Name: Content Rating, dtype: int64"
      ]
     },
     "execution_count": 35,
     "metadata": {},
     "output_type": "execute_result"
    }
   ],
   "source": [
    "#Xem các giá trị trong cột Content Rating\n",
    "df['Content Rating'].value_counts()"
   ]
  },
  {
   "cell_type": "code",
   "execution_count": 37,
   "id": "34191cba",
   "metadata": {},
   "outputs": [],
   "source": [
    "#Gán nhãn cho từng giá trị trong cột \n",
    "lbl_content_rating=LabelEncoder()\n",
    "df['Content Rating']=lbl_content_rating.fit_transform(df['Content Rating'])"
   ]
  },
  {
   "cell_type": "code",
   "execution_count": 38,
   "id": "be58bf66",
   "metadata": {},
   "outputs": [
    {
     "data": {
      "text/plain": [
       "1    960746\n",
       "4     98920\n",
       "3     31735\n",
       "2     17753\n",
       "5        66\n",
       "0        52\n",
       "Name: Content Rating, dtype: int64"
      ]
     },
     "execution_count": 38,
     "metadata": {},
     "output_type": "execute_result"
    }
   ],
   "source": [
    "df['Content Rating'].value_counts()"
   ]
  },
  {
   "cell_type": "markdown",
   "id": "bd6f783a",
   "metadata": {},
   "source": [
    "## 1.5.  Chuyển đổi kiểu dữ liệu cột Minimum Android Version thành dạng số để phù hợp với đầu vào"
   ]
  },
  {
   "cell_type": "code",
   "execution_count": 39,
   "id": "2da837d3",
   "metadata": {},
   "outputs": [],
   "source": [
    "def min_android(data):\n",
    "    p=data.split()\n",
    "    if data=='Varies with device':\n",
    "        return 4.0\n",
    "    else:\n",
    "        return float(p[0][:3])\n",
    "df['Minimum Android']=df['Minimum Android'].apply(min_android)"
   ]
  },
  {
   "cell_type": "code",
   "execution_count": 41,
   "id": "9d9779c4",
   "metadata": {},
   "outputs": [
    {
     "name": "stderr",
     "output_type": "stream",
     "text": [
      "C:\\Users\\hoang\\AppData\\Local\\Programs\\Python\\Python310\\lib\\site-packages\\seaborn\\_decorators.py:36: FutureWarning: Pass the following variable as a keyword arg: x. From version 0.12, the only valid positional argument will be `data`, and passing other arguments without an explicit keyword will result in an error or misinterpretation.\n",
      "  warnings.warn(\n"
     ]
    },
    {
     "data": {
      "text/plain": [
       "[]"
      ]
     },
     "execution_count": 41,
     "metadata": {},
     "output_type": "execute_result"
    },
    {
     "data": {
      "image/png": "[encoded data removed]",
      "text/plain": [
       "<Figure size 2160x1080 with 1 Axes>"
      ]
     },
     "metadata": {
      "needs_background": "light"
     },
     "output_type": "display_data"
    }
   ],
   "source": [
    "plt.figure(figsize=(30,15))\n",
    "sns.countplot(df['Minimum Android'])\n",
    "plt.plot()"
   ]
  },
  {
   "cell_type": "markdown",
   "id": "48d918ef",
   "metadata": {},
   "source": [
    "## 1.6.  Chuyển đổi kiểu dữ liệu cột Category thành dạng số để phù hợp với đầu vào"
   ]
  },
  {
   "cell_type": "code",
   "execution_count": 43,
   "id": "155672ea",
   "metadata": {
    "scrolled": true
   },
   "outputs": [
    {
     "data": {
      "text/plain": [
       "Education                  114728\n",
       "Music & Audio              104205\n",
       "Entertainment               81798\n",
       "Books & Reference           78771\n",
       "Personalization             73234\n",
       "Tools                       68090\n",
       "Lifestyle                   54383\n",
       "Business                    41729\n",
       "Health & Fitness            31193\n",
       "Productivity                29999\n",
       "Photography                 28857\n",
       "Travel & Local              25735\n",
       "Finance                     24648\n",
       "Puzzle                      24595\n",
       "Food & Drink                24069\n",
       "Sports                      21919\n",
       "News & Magazines            21497\n",
       "Shopping                    20299\n",
       "Casual                      19938\n",
       "Communication               18203\n",
       "Arcade                      17320\n",
       "Social                      16862\n",
       "Simulation                  15046\n",
       "Medical                     12428\n",
       "Action                      12308\n",
       "Art & Design                12255\n",
       "Educational                 11266\n",
       "Maps & Navigation           10343\n",
       "Adventure                   10002\n",
       "Video Players & Editors      9023\n",
       "Auto & Vehicles              6758\n",
       "Beauty                       6205\n",
       "Racing                       5922\n",
       "Role Playing                 5464\n",
       "Trivia                       5442\n",
       "House & Home                 5432\n",
       "Board                        5204\n",
       "Word                         4648\n",
       "Card                         4628\n",
       "Strategy                     3953\n",
       "Events                       3746\n",
       "Weather                      2930\n",
       "Dating                       2862\n",
       "Casino                       2632\n",
       "Music                        2487\n",
       "Libraries & Demo             2352\n",
       "Comics                       2103\n",
       "Parenting                    1761\n",
       "Name: Category, dtype: int64"
      ]
     },
     "execution_count": 43,
     "metadata": {},
     "output_type": "execute_result"
    }
   ],
   "source": [
    "#Xem các giá trị của Category\n",
    "df['Category'].value_counts()"
   ]
  },
  {
   "cell_type": "code",
   "execution_count": 45,
   "id": "d5fbd1ab",
   "metadata": {},
   "outputs": [],
   "source": [
    "#Gán nhãn cho từng giá trị trong cột\n",
    "lbl_category=LabelEncoder()\n",
    "df['Category']=lbl_category.fit_transform(df['Category'])"
   ]
  },
  {
   "cell_type": "code",
   "execution_count": 46,
   "id": "34a938d5",
   "metadata": {},
   "outputs": [
    {
     "data": {
      "text/plain": [
       "15    114728\n",
       "28    104205\n",
       "17     81798\n",
       "7      78771\n",
       "31     73234\n",
       "42     68090\n",
       "24     54383\n",
       "8      41729\n",
       "21     31193\n",
       "33     29999\n",
       "32     28857\n",
       "43     25735\n",
       "19     24648\n",
       "34     24595\n",
       "20     24069\n",
       "40     21919\n",
       "29     21497\n",
       "37     20299\n",
       "11     19938\n",
       "13     18203\n",
       "2      17320\n",
       "39     16862\n",
       "38     15046\n",
       "26     12428\n",
       "0      12308\n",
       "3      12255\n",
       "16     11266\n",
       "25     10343\n",
       "1      10002\n",
       "45      9023\n",
       "4       6758\n",
       "5       6205\n",
       "35      5922\n",
       "36      5464\n",
       "44      5442\n",
       "22      5432\n",
       "6       5204\n",
       "47      4648\n",
       "9       4628\n",
       "41      3953\n",
       "18      3746\n",
       "46      2930\n",
       "14      2862\n",
       "10      2632\n",
       "27      2487\n",
       "23      2352\n",
       "12      2103\n",
       "30      1761\n",
       "Name: Category, dtype: int64"
      ]
     },
     "execution_count": 46,
     "metadata": {},
     "output_type": "execute_result"
    }
   ],
   "source": [
    "#Xem các giá trị của Category sau khi gán nhãn\n",
    "df['Category'].value_counts()"
   ]
  },
  {
   "cell_type": "markdown",
   "id": "585965ce",
   "metadata": {},
   "source": [
    "## 1.7.  Chuyển đổi kiểu dữ liệu cột Free thành dạng bool"
   ]
  },
  {
   "cell_type": "code",
   "execution_count": 48,
   "id": "82f61b50",
   "metadata": {},
   "outputs": [
    {
     "data": {
      "text/plain": [
       "True     1062995\n",
       "False      46277\n",
       "Name: Free, dtype: int64"
      ]
     },
     "execution_count": 48,
     "metadata": {},
     "output_type": "execute_result"
    }
   ],
   "source": [
    "df.Free.value_counts()"
   ]
  },
  {
   "cell_type": "code",
   "execution_count": 49,
   "id": "284e6121",
   "metadata": {},
   "outputs": [],
   "source": [
    "df.Free=pd.Categorical(df.Free,ordered=True,categories=[False,True]).codes"
   ]
  },
  {
   "cell_type": "code",
   "execution_count": 50,
   "id": "cf66b97c",
   "metadata": {},
   "outputs": [
    {
     "data": {
      "text/plain": [
       "1    1062995\n",
       "0      46277\n",
       "Name: Free, dtype: int64"
      ]
     },
     "execution_count": 50,
     "metadata": {},
     "output_type": "execute_result"
    }
   ],
   "source": [
    "df.Free.value_counts()"
   ]
  },
  {
   "cell_type": "markdown",
   "id": "838bbb83",
   "metadata": {},
   "source": [
    "## 1.8.  Chuyển đổi kiểu dữ liệu cột Ad Supported thành dạng bool"
   ]
  },
  {
   "cell_type": "code",
   "execution_count": 51,
   "id": "f4ffeba7",
   "metadata": {},
   "outputs": [
    {
     "data": {
      "text/plain": [
       "True     722081\n",
       "False    387191\n",
       "Name: Ad Supported, dtype: int64"
      ]
     },
     "execution_count": 51,
     "metadata": {},
     "output_type": "execute_result"
    }
   ],
   "source": [
    "df['Ad Supported'].value_counts()"
   ]
  },
  {
   "cell_type": "code",
   "execution_count": 52,
   "id": "11f5ff39",
   "metadata": {},
   "outputs": [],
   "source": [
    "df['Ad Supported']=pd.Categorical(df['Ad Supported'],ordered=True,categories=[False,True]).codes"
   ]
  },
  {
   "cell_type": "code",
   "execution_count": 53,
   "id": "2d2e3f10",
   "metadata": {
    "scrolled": true
   },
   "outputs": [
    {
     "data": {
      "text/plain": [
       "1    722081\n",
       "0    387191\n",
       "Name: Ad Supported, dtype: int64"
      ]
     },
     "execution_count": 53,
     "metadata": {},
     "output_type": "execute_result"
    }
   ],
   "source": [
    "df['Ad Supported'].value_counts()"
   ]
  },
  {
   "cell_type": "markdown",
   "id": "66d5ddea",
   "metadata": {},
   "source": [
    "## 1.9.  Chuyển đổi kiểu dữ liệu cột In App Purchases thành dạng bool"
   ]
  },
  {
   "cell_type": "code",
   "execution_count": 54,
   "id": "e6cf87b9",
   "metadata": {},
   "outputs": [
    {
     "data": {
      "text/plain": [
       "False    990503\n",
       "True     118769\n",
       "Name: In App Purchases, dtype: int64"
      ]
     },
     "execution_count": 54,
     "metadata": {},
     "output_type": "execute_result"
    }
   ],
   "source": [
    "df['In App Purchases'].value_counts()"
   ]
  },
  {
   "cell_type": "code",
   "execution_count": 55,
   "id": "cfc28ff6",
   "metadata": {},
   "outputs": [],
   "source": [
    "df['In App Purchases']=pd.Categorical(df['In App Purchases'],ordered=True,categories=[False,True]).codes"
   ]
  },
  {
   "cell_type": "code",
   "execution_count": 56,
   "id": "80420f9a",
   "metadata": {},
   "outputs": [
    {
     "data": {
      "text/plain": [
       "0    990503\n",
       "1    118769\n",
       "Name: In App Purchases, dtype: int64"
      ]
     },
     "execution_count": 56,
     "metadata": {},
     "output_type": "execute_result"
    }
   ],
   "source": [
    "df['In App Purchases'].value_counts()"
   ]
  },
  {
   "cell_type": "markdown",
   "id": "457a3d70",
   "metadata": {},
   "source": [
    "## 1.10.  Chuyển đổi kiểu dữ liệu cột In Editors Choice thành dạng bool"
   ]
  },
  {
   "cell_type": "code",
   "execution_count": 57,
   "id": "65847feb",
   "metadata": {},
   "outputs": [
    {
     "data": {
      "text/plain": [
       "False    1108525\n",
       "True         747\n",
       "Name: Editors Choice, dtype: int64"
      ]
     },
     "execution_count": 57,
     "metadata": {},
     "output_type": "execute_result"
    }
   ],
   "source": [
    "df['Editors Choice'].value_counts()"
   ]
  },
  {
   "cell_type": "code",
   "execution_count": 58,
   "id": "09c719fa",
   "metadata": {},
   "outputs": [],
   "source": [
    "df['Editors Choice']=pd.Categorical(df['Editors Choice'],ordered=True,categories=[False,True]).codes"
   ]
  },
  {
   "cell_type": "code",
   "execution_count": 59,
   "id": "41310cc1",
   "metadata": {
    "scrolled": true
   },
   "outputs": [
    {
     "data": {
      "text/plain": [
       "0    1108525\n",
       "1        747\n",
       "Name: Editors Choice, dtype: int64"
      ]
     },
     "execution_count": 59,
     "metadata": {},
     "output_type": "execute_result"
    }
   ],
   "source": [
    "df['Editors Choice'].value_counts()"
   ]
  },
  {
   "cell_type": "markdown",
   "id": "e8f7a506",
   "metadata": {},
   "source": [
    "## *Như vậy, ta đã có dữ liệu sạch để dùng để dự đoán."
   ]
  },
  {
   "cell_type": "code",
   "execution_count": 60,
   "id": "5db6b82a",
   "metadata": {},
   "outputs": [
    {
     "data": {
      "text/html": [
       "<div>\n",
       "<style scoped>\n",
       "    .dataframe tbody tr th:only-of-type {\n",
       "        vertical-align: middle;\n",
       "    }\n",
       "\n",
       "    .dataframe tbody tr th {\n",
       "        vertical-align: top;\n",
       "    }\n",
       "\n",
       "    .dataframe thead th {\n",
       "        text-align: right;\n",
       "    }\n",
       "</style>\n",
       "<table border=\"1\" class=\"dataframe\">\n",
       "  <thead>\n",
       "    <tr style=\"text-align: right;\">\n",
       "      <th></th>\n",
       "      <th>Category</th>\n",
       "      <th>Rating</th>\n",
       "      <th>Rating Count</th>\n",
       "      <th>Installs</th>\n",
       "      <th>Minimum Installs</th>\n",
       "      <th>Maximum Installs</th>\n",
       "      <th>Free</th>\n",
       "      <th>Price</th>\n",
       "      <th>Size</th>\n",
       "      <th>Minimum Android</th>\n",
       "      <th>Content Rating</th>\n",
       "      <th>Ad Supported</th>\n",
       "      <th>In App Purchases</th>\n",
       "      <th>Editors Choice</th>\n",
       "    </tr>\n",
       "  </thead>\n",
       "  <tbody>\n",
       "    <tr>\n",
       "      <th>0</th>\n",
       "      <td>13</td>\n",
       "      <td>3.6</td>\n",
       "      <td>2848.0</td>\n",
       "      <td>100000</td>\n",
       "      <td>100000.0</td>\n",
       "      <td>351560</td>\n",
       "      <td>1</td>\n",
       "      <td>0.0</td>\n",
       "      <td>2700.0</td>\n",
       "      <td>2.3</td>\n",
       "      <td>1</td>\n",
       "      <td>0</td>\n",
       "      <td>0</td>\n",
       "      <td>0</td>\n",
       "    </tr>\n",
       "    <tr>\n",
       "      <th>1</th>\n",
       "      <td>41</td>\n",
       "      <td>4.3</td>\n",
       "      <td>17297.0</td>\n",
       "      <td>1000000</td>\n",
       "      <td>1000000.0</td>\n",
       "      <td>2161778</td>\n",
       "      <td>1</td>\n",
       "      <td>0.0</td>\n",
       "      <td>86000.0</td>\n",
       "      <td>5.1</td>\n",
       "      <td>2</td>\n",
       "      <td>1</td>\n",
       "      <td>1</td>\n",
       "      <td>0</td>\n",
       "    </tr>\n",
       "    <tr>\n",
       "      <th>2</th>\n",
       "      <td>42</td>\n",
       "      <td>4.2</td>\n",
       "      <td>488639.0</td>\n",
       "      <td>50000000</td>\n",
       "      <td>50000000.0</td>\n",
       "      <td>79304739</td>\n",
       "      <td>1</td>\n",
       "      <td>0.0</td>\n",
       "      <td>5800.0</td>\n",
       "      <td>4.1</td>\n",
       "      <td>1</td>\n",
       "      <td>1</td>\n",
       "      <td>0</td>\n",
       "      <td>0</td>\n",
       "    </tr>\n",
       "    <tr>\n",
       "      <th>3</th>\n",
       "      <td>8</td>\n",
       "      <td>4.2</td>\n",
       "      <td>1224420.0</td>\n",
       "      <td>100000000</td>\n",
       "      <td>100000000.0</td>\n",
       "      <td>163660067</td>\n",
       "      <td>1</td>\n",
       "      <td>0.0</td>\n",
       "      <td>59000.0</td>\n",
       "      <td>4.4</td>\n",
       "      <td>1</td>\n",
       "      <td>1</td>\n",
       "      <td>1</td>\n",
       "      <td>0</td>\n",
       "    </tr>\n",
       "    <tr>\n",
       "      <th>4</th>\n",
       "      <td>28</td>\n",
       "      <td>4.2</td>\n",
       "      <td>665.0</td>\n",
       "      <td>50000</td>\n",
       "      <td>50000.0</td>\n",
       "      <td>73463</td>\n",
       "      <td>1</td>\n",
       "      <td>0.0</td>\n",
       "      <td>29000.0</td>\n",
       "      <td>5.0</td>\n",
       "      <td>1</td>\n",
       "      <td>0</td>\n",
       "      <td>0</td>\n",
       "      <td>0</td>\n",
       "    </tr>\n",
       "  </tbody>\n",
       "</table>\n",
       "</div>"
      ],
      "text/plain": [
       "   Category  Rating  Rating Count   Installs  Minimum Installs  \\\n",
       "0        13     3.6        2848.0     100000          100000.0   \n",
       "1        41     4.3       17297.0    1000000         1000000.0   \n",
       "2        42     4.2      488639.0   50000000        50000000.0   \n",
       "3         8     4.2     1224420.0  100000000       100000000.0   \n",
       "4        28     4.2         665.0      50000           50000.0   \n",
       "\n",
       "   Maximum Installs  Free  Price     Size  Minimum Android  Content Rating  \\\n",
       "0            351560     1    0.0   2700.0              2.3               1   \n",
       "1           2161778     1    0.0  86000.0              5.1               2   \n",
       "2          79304739     1    0.0   5800.0              4.1               1   \n",
       "3         163660067     1    0.0  59000.0              4.4               1   \n",
       "4             73463     1    0.0  29000.0              5.0               1   \n",
       "\n",
       "   Ad Supported  In App Purchases  Editors Choice  \n",
       "0             0                 0               0  \n",
       "1             1                 1               0  \n",
       "2             1                 0               0  \n",
       "3             1                 1               0  \n",
       "4             0                 0               0  "
      ]
     },
     "execution_count": 60,
     "metadata": {},
     "output_type": "execute_result"
    }
   ],
   "source": [
    "df.head()"
   ]
  },
  {
   "cell_type": "code",
   "execution_count": 62,
   "id": "9fc76333",
   "metadata": {},
   "outputs": [
    {
     "data": {
      "text/plain": [
       "[]"
      ]
     },
     "execution_count": 62,
     "metadata": {},
     "output_type": "execute_result"
    },
    {
     "data": {
      "image/png": "[encoded data removed]",
      "text/plain": [
       "<Figure size 1440x1080 with 2 Axes>"
      ]
     },
     "metadata": {
      "needs_background": "light"
     },
     "output_type": "display_data"
    }
   ],
   "source": [
    "#Xem sự tương đồng giữa các thuộc tính\n",
    "plt.figure(figsize=(20,15))\n",
    "sns.heatmap(df.corr(),annot=True)\n",
    "plt.plot()"
   ]
  },
  {
   "cell_type": "code",
   "execution_count": 65,
   "id": "283c41dc",
   "metadata": {},
   "outputs": [],
   "source": [
    "#Xuất kết quả tiền xử lý \n",
    "df.to_csv('D:/HK6/KhaiThacDL/BaoCao/CSV/Data-DaXuLy.csv')"
   ]
  }
 ],
 "metadata": {
  "kernelspec": {
   "display_name": "Python 3 (ipykernel)",
   "language": "python",
   "name": "python3"
  },
  "language_info": {
   "codemirror_mode": {
    "name": "ipython",
    "version": 3
   },
   "file_extension": ".py",
   "mimetype": "text/x-python",
   "name": "python",
   "nbconvert_exporter": "python",
   "pygments_lexer": "ipython3",
   "version": "3.10.2"
  }
 },
 "nbformat": 4,
 "nbformat_minor": 5
}
